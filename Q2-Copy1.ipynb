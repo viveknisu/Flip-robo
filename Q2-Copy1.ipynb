{
 "cells": [
  {
   "cell_type": "code",
   "execution_count": 47,
   "metadata": {},
   "outputs": [],
   "source": [
    "import selenium\n",
    "import pandas as pd\n",
    "from selenium import webdriver"
   ]
  },
  {
   "cell_type": "code",
   "execution_count": 48,
   "metadata": {},
   "outputs": [
    {
     "data": {
      "text/plain": [
       "<selenium.webdriver.chrome.webdriver.WebDriver (session=\"1b1efd91d8b742eac58899f0dcfce1ed\")>"
      ]
     },
     "execution_count": 48,
     "metadata": {},
     "output_type": "execute_result"
    }
   ],
   "source": [
    "#connect to the chrom\n",
    "driver=webdriver.Chrome(\"chromedriver.exe\")\n",
    "driver"
   ]
  },
  {
   "cell_type": "code",
   "execution_count": 49,
   "metadata": {},
   "outputs": [],
   "source": [
    "url='https://www.naukri.com/'\n",
    "driver.get(url)"
   ]
  },
  {
   "cell_type": "code",
   "execution_count": 50,
   "metadata": {},
   "outputs": [
    {
     "data": {
      "text/plain": [
       "<selenium.webdriver.remote.webelement.WebElement (session=\"1b1efd91d8b742eac58899f0dcfce1ed\", element=\"f6d88d67-b7ca-460e-abc7-a0496792aa35\")>"
      ]
     },
     "execution_count": 50,
     "metadata": {},
     "output_type": "execute_result"
    }
   ],
   "source": [
    "#scrap search button\n",
    "search=driver.find_element_by_id('qsb-keyword-sugg')\n",
    "search"
   ]
  },
  {
   "cell_type": "code",
   "execution_count": 51,
   "metadata": {},
   "outputs": [],
   "source": [
    "search.send_keys('Data Scientist')"
   ]
  },
  {
   "cell_type": "code",
   "execution_count": 52,
   "metadata": {},
   "outputs": [
    {
     "data": {
      "text/plain": [
       "<selenium.webdriver.remote.webelement.WebElement (session=\"1b1efd91d8b742eac58899f0dcfce1ed\", element=\"23980e12-b03c-41d3-91ab-892220803efe\")>"
      ]
     },
     "execution_count": 52,
     "metadata": {},
     "output_type": "execute_result"
    }
   ],
   "source": [
    "#scrap location buttoon by ID function\n",
    "Location=driver.find_element_by_id(\"qsb-location-sugg\")\n",
    "Location\n"
   ]
  },
  {
   "cell_type": "code",
   "execution_count": 53,
   "metadata": {},
   "outputs": [],
   "source": [
    "Location.send_keys('Bangalore')"
   ]
  },
  {
   "cell_type": "code",
   "execution_count": 54,
   "metadata": {},
   "outputs": [],
   "source": [
    "#scrap search button vy x path function\n",
    "searc=driver.find_element_by_xpath(\"//div[@class='search-btn']\")\n",
    "searc.click()"
   ]
  },
  {
   "cell_type": "code",
   "execution_count": 60,
   "metadata": {},
   "outputs": [
    {
     "data": {
      "text/plain": [
       "['Data Scientist / Data Analyst -Business Analyst',\n",
       " 'Data Scientist',\n",
       " 'Big Data - Data Scientist',\n",
       " 'Specialist I - Data Scientist',\n",
       " 'Data Scientist',\n",
       " 'SDE Lead Data Scientist-L3',\n",
       " 'Computational Design Lead Data Scientist-L3',\n",
       " 'Hiring For DATA Scientist - ON Contract Basis (3-6 Months)',\n",
       " 'Senior Data Scientist',\n",
       " 'Senior Data Scientist',\n",
       " 'Sr. Data Scientist',\n",
       " 'Senior Data Scientist',\n",
       " 'Senior Data Scientist',\n",
       " 'Senior Associate/Team Lead - Data Scientist Consulting',\n",
       " 'Senior Data Scientist',\n",
       " 'Sr Data Scientist, Payments',\n",
       " 'Hiring For Lead data Scientist For Bangalore location',\n",
       " 'Senior Data Scientist',\n",
       " 'we are hiring For the role of data engineer\\\\data scientist',\n",
       " 'Senior Data Scientist, Marketing Analytics']"
      ]
     },
     "execution_count": 60,
     "metadata": {},
     "output_type": "execute_result"
    }
   ],
   "source": [
    "#jobtitle by xpath function\n",
    "Title=[]\n",
    "title=driver.find_elements_by_xpath(\"//a[@class='title fw500 ellipsis']\")\n",
    "for i in title:\n",
    "    Title.append(i.text)\n",
    "Title"
   ]
  },
  {
   "cell_type": "code",
   "execution_count": 143,
   "metadata": {},
   "outputs": [
    {
     "data": {
      "text/plain": [
       "['Data Scientist / Data Analyst -Business Analyst',\n",
       " 'Data Scientist',\n",
       " 'Big Data - Data Scientist',\n",
       " 'Specialist I - Data Scientist',\n",
       " 'Data Scientist',\n",
       " 'SDE Lead Data Scientist-L3',\n",
       " 'Computational Design Lead Data Scientist-L3',\n",
       " 'Hiring For DATA Scientist - ON Contract Basis (3-6 Months)',\n",
       " 'Senior Data Scientist',\n",
       " 'Senior Data Scientist']"
      ]
     },
     "execution_count": 143,
     "metadata": {},
     "output_type": "execute_result"
    }
   ],
   "source": [
    "Title[0:10]"
   ]
  },
  {
   "cell_type": "code",
   "execution_count": 56,
   "metadata": {},
   "outputs": [
    {
     "data": {
      "text/plain": [
       "['Inflexion Analytix Private Limited',\n",
       " 'Wipro Limited',\n",
       " 'Xoriant Solutions Pvt Ltd',\n",
       " 'Philips India Limited',\n",
       " 'Oracle India Pvt. Ltd.',\n",
       " 'Huawei Technologies India Pvt Ltd',\n",
       " 'Huawei Technologies India Pvt Ltd',\n",
       " 'GlobalEdx Learning and Technology Solution Pvt Ltd',\n",
       " 'GO-JEK India',\n",
       " 'nanobi data and analytics private limited',\n",
       " 'VALIANCE ANALYTICS PRIVATE LIMITED',\n",
       " 'BankBazaar.com (A&A DUKAAN FINANCIAL SERVICES PVT. LTD)',\n",
       " 'Kwalee',\n",
       " 'Analytics India Magazine',\n",
       " 'Gojek Tech',\n",
       " 'AIRBNB GLOBAL CAPABILITY CENTER PRIVATE LIMITED',\n",
       " 'Societe Generale',\n",
       " 'Kinara Financial Private Limited',\n",
       " 'COLLABERA',\n",
       " 'Hudsons Bay Company']"
      ]
     },
     "execution_count": 56,
     "metadata": {},
     "output_type": "execute_result"
    }
   ],
   "source": [
    "#web_element for the comapny name by xpath function \n",
    "Company=[]\n",
    "c_name=driver.find_elements_by_xpath(\"//a[@class='subTitle ellipsis fleft']\")\n",
    "for i in c_name:\n",
    "    Company.append(i.text)\n",
    "Company  "
   ]
  },
  {
   "cell_type": "code",
   "execution_count": 144,
   "metadata": {},
   "outputs": [
    {
     "data": {
      "text/plain": [
       "['Inflexion Analytix Private Limited',\n",
       " 'Wipro Limited',\n",
       " 'Xoriant Solutions Pvt Ltd',\n",
       " 'Philips India Limited',\n",
       " 'Oracle India Pvt. Ltd.',\n",
       " 'Huawei Technologies India Pvt Ltd',\n",
       " 'Huawei Technologies India Pvt Ltd',\n",
       " 'GlobalEdx Learning and Technology Solution Pvt Ltd',\n",
       " 'GO-JEK India',\n",
       " 'nanobi data and analytics private limited']"
      ]
     },
     "execution_count": 144,
     "metadata": {},
     "output_type": "execute_result"
    }
   ],
   "source": [
    "Company [0:10]"
   ]
  },
  {
   "cell_type": "code",
   "execution_count": 57,
   "metadata": {},
   "outputs": [
    {
     "data": {
      "text/plain": [
       "['Mumbai, Hyderabad/Secunderabad, Pune, Gurgaon/Gurugram, Chennai, Bangalore/Bengaluru',\n",
       " 'Kolkata, Hyderabad/Secunderabad, Chennai, Bangalore/Bengaluru',\n",
       " 'Kochi/Cochin, Indore, Hyderabad/Secunderabad, Pune, Ahmedabad, Bangalore/Bengaluru, Mumbai (All Areas)',\n",
       " 'Bangalore/Bengaluru',\n",
       " 'Bangalore/Bengaluru',\n",
       " 'Bangalore/Bengaluru',\n",
       " 'Bangalore/Bengaluru',\n",
       " 'Hyderabad/Secunderabad, Bangalore/Bengaluru, Mumbai (All Areas)',\n",
       " 'Bangalore/Bengaluru',\n",
       " 'Bangalore/Bengaluru',\n",
       " 'Bangalore/Bengaluru, Delhi / NCR',\n",
       " 'Bangalore/Bengaluru',\n",
       " 'Bangalore/Bengaluru',\n",
       " 'Bangalore/Bengaluru',\n",
       " 'Bangalore/Bengaluru',\n",
       " 'Bangalore/Bengaluru',\n",
       " 'Bangalore/Bengaluru',\n",
       " 'Bangalore/Bengaluru',\n",
       " 'Bangalore/Bengaluru',\n",
       " 'Bangalore/Bengaluru']"
      ]
     },
     "execution_count": 57,
     "metadata": {},
     "output_type": "execute_result"
    }
   ],
   "source": [
    "#web_element for the location by Xpath Function\n",
    "Lcation=[]\n",
    "for i in driver.find_elements_by_xpath(\"//li[@class='fleft grey-text br2 placeHolderLi location']\"):\n",
    "    Lcation.append(i.text)\n",
    "Lcation   "
   ]
  },
  {
   "cell_type": "code",
   "execution_count": 145,
   "metadata": {},
   "outputs": [
    {
     "data": {
      "text/plain": [
       "['Mumbai, Hyderabad/Secunderabad, Pune, Gurgaon/Gurugram, Chennai, Bangalore/Bengaluru',\n",
       " 'Kolkata, Hyderabad/Secunderabad, Chennai, Bangalore/Bengaluru',\n",
       " 'Kochi/Cochin, Indore, Hyderabad/Secunderabad, Pune, Ahmedabad, Bangalore/Bengaluru, Mumbai (All Areas)',\n",
       " 'Bangalore/Bengaluru',\n",
       " 'Bangalore/Bengaluru',\n",
       " 'Bangalore/Bengaluru',\n",
       " 'Bangalore/Bengaluru',\n",
       " 'Hyderabad/Secunderabad, Bangalore/Bengaluru, Mumbai (All Areas)',\n",
       " 'Bangalore/Bengaluru',\n",
       " 'Bangalore/Bengaluru']"
      ]
     },
     "execution_count": 145,
     "metadata": {},
     "output_type": "execute_result"
    }
   ],
   "source": [
    "Lcation[0:10]"
   ]
  },
  {
   "cell_type": "code",
   "execution_count": 64,
   "metadata": {},
   "outputs": [],
   "source": [
    "#full job Description\n",
    "U_1=\"https://www.naukri.com/job-listings-data-scientist-data-analyst-business-analyst-inflexion-analytix-private-limited-mumbai-hyderabad-secunderabad-pune-gurgaon-gurugram-chennai-bangalore-bengaluru-0-to-3-years-100521000368?src=jobsearchDesk&sid=16217350952976404&xp=1&px=1\""
   ]
  },
  {
   "cell_type": "code",
   "execution_count": 65,
   "metadata": {},
   "outputs": [],
   "source": [
    "driver.get(U_1)"
   ]
  },
  {
   "cell_type": "code",
   "execution_count": 79,
   "metadata": {},
   "outputs": [
    {
     "data": {
      "text/plain": [
       "\"Job Role : Data Scientist/Data Analyst /Business AnalystLocation : Chennai/Bangalore/Hyderabad/Pune/Mumbai/DelhiGreetings from CAIA - Center for Artificial Intelligence & Advanced Analytics43% of companies experienced a high deficit of skilled resources with Advanced Analytical skills and AI implementing capabilities in year 2020. CAIA gives you a great opportunity to enter the world of future technologies and Innovations- Data Science, Analytics, AI, Data Visualization and Cloud Computing.While 2020 was a year like no other, we are living in an interesting times where data is reshaping the world, and businesses are rapidly adopting technology to gain an edge over others. Hence, there's a substantial increase in demand for technology professionals who can implement systems in data science, machine learning and AI in Tier 1 and Tier 2 organization's working closely with us.To help you build a sustainable career we would like you to utilize data, software and Analytical approaches in Data Science and AI to up skill and get recruited into an organization appreciating your skilling journey.Applications invited from all Freshers and experienced candidates (0-3 yrs) aspiring to make a career in Artificial Intelligence and Advanced Analytics and Data Science.If you wish to make a shift in your career or undergo a career transition, upskilling is essential since it allows you to learn more about the domain and acquire the required skills.Call to schedule interview Monday -Saturday from 10:00 am to 7PmManigandan -+91 7299917200Email : manigandan@centerforaia.comWhat is needed from you?Freshers who wish to start their career in Analytics and AI and professionals who wish toupskill or change their domain to analytics and emerging technologies are free to apply.An Educational background in any one of the following- BE/B.Tech, ME/M Tech, MSc, BSc/MSc Maths and Statistics, B Com, BCA, BSc CS, BSC IT, MSC IT, MCASkills relating to Mathematics/Statistics.Natural passion towards numbers, business, coding, Analytics and Artificial Intelligence, Machine Learning, visualizationGood verbal and written communication skillsAbility to understand domains in businesses across various sectorsSelection procedure includesAptitude Test & Communication Exam - Online / OfflineSQL/Python test - Online / OfflineCandidates who clears the above will have one-one discussion with our Career Guidance Manager for further evaluation and processing of your Resume.All the Shortlisted candidates will be eligible to continue the corporate training with CAIAWhat you can expect from us?You will get trained on the following modules for a period of 12-14 weeks:SQL & PLSQLData Wrangling using PythonData Visualization Using Power-BIStatistics for Machine LearningArtificial Intelligence, Data InterpretationSupervised & Unsupervised Learning,NLP & Deep LearningCloud Data LakeBusiness intelligence & Data VisualizationSimulation ProjectsExpected Outcome?At the end of the Training you are expected to be well versed with the following:Analysis of large and complex data sets from multiple sourcesDevelopment and evaluation of data analytics models, algorithms and solutionsUnderstanding/implementation of ML algorithms, performance tuning and reportingImplementation of algorithms to mine targeted data and the ability to convert data in to a business storyTranslation of business requirements into technical requirements; Data extraction, preparation and transformationIdentification, development and implementation of statistical techniques and algorithms that address business challenges and adds value to the organizationRequirement Analysis and communication of findings in the form of a meaningful story with the stakeholdersFinding analytical solutions to abstract business issues.Apply objective analysis of facts before coming to a conclusionAbout CAIA - Inflexion Analytix Private LimitedCenter for Artificial Intelligence and Advanced Analytics (Center for AIA) is the brainchild of experienced and visionary alumni of IIT Madras and Bombay.Digital leaders - 5F World and Systech Solutions have joined hands to create a venture for architecting the future of society, workforce, governments and businesses. 5F World specializes in designing solutions around digital platforms and Systech Solutions has an expertise in architecting Artificial Intelligence and Advance Analytics solutions for Fortune 500 companies.Our Website : http://www.centerforaia.com/https://inflexion-analytix-private-limited.business.site/?m=trueCenter for Artificial Intelligence & Advanced Analytics (CAIA) focuses on the following:1. Global Research on emerging trends, technologies and applications in AI and Advanced Analytics2. Advanced Training programs for readying the future ready workforce3. Solutions to herald the futuristic lifestyle and workspaces in the field of AI and Data Science.\""
      ]
     },
     "execution_count": 79,
     "metadata": {},
     "output_type": "execute_result"
    }
   ],
   "source": [
    "desc_1=driver.find_element_by_xpath(\"//div[@class='dang-inner-html']\")\n",
    "x=desc_1.text.replace('\\n','')\n",
    "x"
   ]
  },
  {
   "cell_type": "code",
   "execution_count": 80,
   "metadata": {},
   "outputs": [
    {
     "data": {
      "text/plain": [
       "[\"Job Role : Data Scientist/Data Analyst /Business AnalystLocation : Chennai/Bangalore/Hyderabad/Pune/Mumbai/DelhiGreetings from CAIA - Center for Artificial Intelligence & Advanced Analytics43% of companies experienced a high deficit of skilled resources with Advanced Analytical skills and AI implementing capabilities in year 2020. CAIA gives you a great opportunity to enter the world of future technologies and Innovations- Data Science, Analytics, AI, Data Visualization and Cloud Computing.While 2020 was a year like no other, we are living in an interesting times where data is reshaping the world, and businesses are rapidly adopting technology to gain an edge over others. Hence, there's a substantial increase in demand for technology professionals who can implement systems in data science, machine learning and AI in Tier 1 and Tier 2 organization's working closely with us.To help you build a sustainable career we would like you to utilize data, software and Analytical approaches in Data Science and AI to up skill and get recruited into an organization appreciating your skilling journey.Applications invited from all Freshers and experienced candidates (0-3 yrs) aspiring to make a career in Artificial Intelligence and Advanced Analytics and Data Science.If you wish to make a shift in your career or undergo a career transition, upskilling is essential since it allows you to learn more about the domain and acquire the required skills.Call to schedule interview Monday -Saturday from 10:00 am to 7PmManigandan -+91 7299917200Email : manigandan@centerforaia.comWhat is needed from you?Freshers who wish to start their career in Analytics and AI and professionals who wish toupskill or change their domain to analytics and emerging technologies are free to apply.An Educational background in any one of the following- BE/B.Tech, ME/M Tech, MSc, BSc/MSc Maths and Statistics, B Com, BCA, BSc CS, BSC IT, MSC IT, MCASkills relating to Mathematics/Statistics.Natural passion towards numbers, business, coding, Analytics and Artificial Intelligence, Machine Learning, visualizationGood verbal and written communication skillsAbility to understand domains in businesses across various sectorsSelection procedure includesAptitude Test & Communication Exam - Online / OfflineSQL/Python test - Online / OfflineCandidates who clears the above will have one-one discussion with our Career Guidance Manager for further evaluation and processing of your Resume.All the Shortlisted candidates will be eligible to continue the corporate training with CAIAWhat you can expect from us?You will get trained on the following modules for a period of 12-14 weeks:SQL & PLSQLData Wrangling using PythonData Visualization Using Power-BIStatistics for Machine LearningArtificial Intelligence, Data InterpretationSupervised & Unsupervised Learning,NLP & Deep LearningCloud Data LakeBusiness intelligence & Data VisualizationSimulation ProjectsExpected Outcome?At the end of the Training you are expected to be well versed with the following:Analysis of large and complex data sets from multiple sourcesDevelopment and evaluation of data analytics models, algorithms and solutionsUnderstanding/implementation of ML algorithms, performance tuning and reportingImplementation of algorithms to mine targeted data and the ability to convert data in to a business storyTranslation of business requirements into technical requirements; Data extraction, preparation and transformationIdentification, development and implementation of statistical techniques and algorithms that address business challenges and adds value to the organizationRequirement Analysis and communication of findings in the form of a meaningful story with the stakeholdersFinding analytical solutions to abstract business issues.Apply objective analysis of facts before coming to a conclusionAbout CAIA - Inflexion Analytix Private LimitedCenter for Artificial Intelligence and Advanced Analytics (Center for AIA) is the brainchild of experienced and visionary alumni of IIT Madras and Bombay.Digital leaders - 5F World and Systech Solutions have joined hands to create a venture for architecting the future of society, workforce, governments and businesses. 5F World specializes in designing solutions around digital platforms and Systech Solutions has an expertise in architecting Artificial Intelligence and Advance Analytics solutions for Fortune 500 companies.Our Website : http://www.centerforaia.com/https://inflexion-analytix-private-limited.business.site/?m=trueCenter for Artificial Intelligence & Advanced Analytics (CAIA) focuses on the following:1. Global Research on emerging trends, technologies and applications in AI and Advanced Analytics2. Advanced Training programs for readying the future ready workforce3. Solutions to herald the futuristic lifestyle and workspaces in the field of AI and Data Science.\"]"
      ]
     },
     "execution_count": 80,
     "metadata": {},
     "output_type": "execute_result"
    }
   ],
   "source": [
    "a=x.split('\\n')\n",
    "a"
   ]
  },
  {
   "cell_type": "code",
   "execution_count": 16,
   "metadata": {},
   "outputs": [],
   "source": [
    "U_2='https://www.naukri.com/job-listings-data-scientist-wipro-limited-kolkata-hyderabad-secunderabad-chennai-bangalore-bengaluru-4-to-9-years-210521000038?src=jobsearchDesk&sid=16217371471507128&xp=2&px=1'"
   ]
  },
  {
   "cell_type": "code",
   "execution_count": 17,
   "metadata": {},
   "outputs": [],
   "source": [
    "driver.get(U_2)"
   ]
  },
  {
   "cell_type": "code",
   "execution_count": 82,
   "metadata": {},
   "outputs": [
    {
     "data": {
      "text/plain": [
       "\"Job Role : Data Scientist/Data Analyst /Business AnalystLocation : Chennai/Bangalore/Hyderabad/Pune/Mumbai/DelhiGreetings from CAIA - Center for Artificial Intelligence & Advanced Analytics43% of companies experienced a high deficit of skilled resources with Advanced Analytical skills and AI implementing capabilities in year 2020. CAIA gives you a great opportunity to enter the world of future technologies and Innovations- Data Science, Analytics, AI, Data Visualization and Cloud Computing.While 2020 was a year like no other, we are living in an interesting times where data is reshaping the world, and businesses are rapidly adopting technology to gain an edge over others. Hence, there's a substantial increase in demand for technology professionals who can implement systems in data science, machine learning and AI in Tier 1 and Tier 2 organization's working closely with us.To help you build a sustainable career we would like you to utilize data, software and Analytical approaches in Data Science and AI to up skill and get recruited into an organization appreciating your skilling journey.Applications invited from all Freshers and experienced candidates (0-3 yrs) aspiring to make a career in Artificial Intelligence and Advanced Analytics and Data Science.If you wish to make a shift in your career or undergo a career transition, upskilling is essential since it allows you to learn more about the domain and acquire the required skills.Call to schedule interview Monday -Saturday from 10:00 am to 7PmManigandan -+91 7299917200Email : manigandan@centerforaia.comWhat is needed from you?Freshers who wish to start their career in Analytics and AI and professionals who wish toupskill or change their domain to analytics and emerging technologies are free to apply.An Educational background in any one of the following- BE/B.Tech, ME/M Tech, MSc, BSc/MSc Maths and Statistics, B Com, BCA, BSc CS, BSC IT, MSC IT, MCASkills relating to Mathematics/Statistics.Natural passion towards numbers, business, coding, Analytics and Artificial Intelligence, Machine Learning, visualizationGood verbal and written communication skillsAbility to understand domains in businesses across various sectorsSelection procedure includesAptitude Test & Communication Exam - Online / OfflineSQL/Python test - Online / OfflineCandidates who clears the above will have one-one discussion with our Career Guidance Manager for further evaluation and processing of your Resume.All the Shortlisted candidates will be eligible to continue the corporate training with CAIAWhat you can expect from us?You will get trained on the following modules for a period of 12-14 weeks:SQL & PLSQLData Wrangling using PythonData Visualization Using Power-BIStatistics for Machine LearningArtificial Intelligence, Data InterpretationSupervised & Unsupervised Learning,NLP & Deep LearningCloud Data LakeBusiness intelligence & Data VisualizationSimulation ProjectsExpected Outcome?At the end of the Training you are expected to be well versed with the following:Analysis of large and complex data sets from multiple sourcesDevelopment and evaluation of data analytics models, algorithms and solutionsUnderstanding/implementation of ML algorithms, performance tuning and reportingImplementation of algorithms to mine targeted data and the ability to convert data in to a business storyTranslation of business requirements into technical requirements; Data extraction, preparation and transformationIdentification, development and implementation of statistical techniques and algorithms that address business challenges and adds value to the organizationRequirement Analysis and communication of findings in the form of a meaningful story with the stakeholdersFinding analytical solutions to abstract business issues.Apply objective analysis of facts before coming to a conclusionAbout CAIA - Inflexion Analytix Private LimitedCenter for Artificial Intelligence and Advanced Analytics (Center for AIA) is the brainchild of experienced and visionary alumni of IIT Madras and Bombay.Digital leaders - 5F World and Systech Solutions have joined hands to create a venture for architecting the future of society, workforce, governments and businesses. 5F World specializes in designing solutions around digital platforms and Systech Solutions has an expertise in architecting Artificial Intelligence and Advance Analytics solutions for Fortune 500 companies.Our Website : http://www.centerforaia.com/https://inflexion-analytix-private-limited.business.site/?m=trueCenter for Artificial Intelligence & Advanced Analytics (CAIA) focuses on the following:1. Global Research on emerging trends, technologies and applications in AI and Advanced Analytics2. Advanced Training programs for readying the future ready workforce3. Solutions to herald the futuristic lifestyle and workspaces in the field of AI and Data Science.\""
      ]
     },
     "execution_count": 82,
     "metadata": {},
     "output_type": "execute_result"
    }
   ],
   "source": [
    "desc_2=driver.find_element_by_xpath(\"//div[@class='dang-inner-html']\")\n",
    "y=desc_2.text.replace('\\n','')\n",
    "y"
   ]
  },
  {
   "cell_type": "code",
   "execution_count": 84,
   "metadata": {},
   "outputs": [
    {
     "data": {
      "text/plain": [
       "[\"Job Role : Data Scientist/Data Analyst /Business AnalystLocation : Chennai/Bangalore/Hyderabad/Pune/Mumbai/DelhiGreetings from CAIA - Center for Artificial Intelligence & Advanced Analytics43% of companies experienced a high deficit of skilled resources with Advanced Analytical skills and AI implementing capabilities in year 2020. CAIA gives you a great opportunity to enter the world of future technologies and Innovations- Data Science, Analytics, AI, Data Visualization and Cloud Computing.While 2020 was a year like no other, we are living in an interesting times where data is reshaping the world, and businesses are rapidly adopting technology to gain an edge over others. Hence, there's a substantial increase in demand for technology professionals who can implement systems in data science, machine learning and AI in Tier 1 and Tier 2 organization's working closely with us.To help you build a sustainable career we would like you to utilize data, software and Analytical approaches in Data Science and AI to up skill and get recruited into an organization appreciating your skilling journey.Applications invited from all Freshers and experienced candidates (0-3 yrs) aspiring to make a career in Artificial Intelligence and Advanced Analytics and Data Science.If you wish to make a shift in your career or undergo a career transition, upskilling is essential since it allows you to learn more about the domain and acquire the required skills.Call to schedule interview Monday -Saturday from 10:00 am to 7PmManigandan -+91 7299917200Email : manigandan@centerforaia.comWhat is needed from you?Freshers who wish to start their career in Analytics and AI and professionals who wish toupskill or change their domain to analytics and emerging technologies are free to apply.An Educational background in any one of the following- BE/B.Tech, ME/M Tech, MSc, BSc/MSc Maths and Statistics, B Com, BCA, BSc CS, BSC IT, MSC IT, MCASkills relating to Mathematics/Statistics.Natural passion towards numbers, business, coding, Analytics and Artificial Intelligence, Machine Learning, visualizationGood verbal and written communication skillsAbility to understand domains in businesses across various sectorsSelection procedure includesAptitude Test & Communication Exam - Online / OfflineSQL/Python test - Online / OfflineCandidates who clears the above will have one-one discussion with our Career Guidance Manager for further evaluation and processing of your Resume.All the Shortlisted candidates will be eligible to continue the corporate training with CAIAWhat you can expect from us?You will get trained on the following modules for a period of 12-14 weeks:SQL & PLSQLData Wrangling using PythonData Visualization Using Power-BIStatistics for Machine LearningArtificial Intelligence, Data InterpretationSupervised & Unsupervised Learning,NLP & Deep LearningCloud Data LakeBusiness intelligence & Data VisualizationSimulation ProjectsExpected Outcome?At the end of the Training you are expected to be well versed with the following:Analysis of large and complex data sets from multiple sourcesDevelopment and evaluation of data analytics models, algorithms and solutionsUnderstanding/implementation of ML algorithms, performance tuning and reportingImplementation of algorithms to mine targeted data and the ability to convert data in to a business storyTranslation of business requirements into technical requirements; Data extraction, preparation and transformationIdentification, development and implementation of statistical techniques and algorithms that address business challenges and adds value to the organizationRequirement Analysis and communication of findings in the form of a meaningful story with the stakeholdersFinding analytical solutions to abstract business issues.Apply objective analysis of facts before coming to a conclusionAbout CAIA - Inflexion Analytix Private LimitedCenter for Artificial Intelligence and Advanced Analytics (Center for AIA) is the brainchild of experienced and visionary alumni of IIT Madras and Bombay.Digital leaders - 5F World and Systech Solutions have joined hands to create a venture for architecting the future of society, workforce, governments and businesses. 5F World specializes in designing solutions around digital platforms and Systech Solutions has an expertise in architecting Artificial Intelligence and Advance Analytics solutions for Fortune 500 companies.Our Website : http://www.centerforaia.com/https://inflexion-analytix-private-limited.business.site/?m=trueCenter for Artificial Intelligence & Advanced Analytics (CAIA) focuses on the following:1. Global Research on emerging trends, technologies and applications in AI and Advanced Analytics2. Advanced Training programs for readying the future ready workforce3. Solutions to herald the futuristic lifestyle and workspaces in the field of AI and Data Science.\"]"
      ]
     },
     "execution_count": 84,
     "metadata": {},
     "output_type": "execute_result"
    }
   ],
   "source": [
    "b=y.split('\\n')\n",
    "b"
   ]
  },
  {
   "cell_type": "code",
   "execution_count": 87,
   "metadata": {},
   "outputs": [],
   "source": [
    "U_3=('https://www.naukri.com/job-listings-big-data-ai-ml-xoriant-solutions-pvt-ltd-kochi-cochin-hyderabad-secunderabad-pune-ahmedabad-bangalore-bengaluru-mumbai-all-areas-1-to-3-years-130521005075?src=jobsearchDesk&sid=16217374629284108&xp=1&px=1')\n",
    "driver.get(U_3)"
   ]
  },
  {
   "cell_type": "code",
   "execution_count": 89,
   "metadata": {},
   "outputs": [
    {
     "data": {
      "text/plain": [
       "\"Roles & Responsibilities & Key Skills:Big Data AI&MLWriting Python code using NLP and using the existing AI-ML based product to extract required data from contracts.Test and debug python programsImprove functionality of existing AIML product.Assessing and prioritizing client feature requests.Requirement gathering, solution's & client interaction.Ad-hoc analysis and results presentation in cleaner manner.2+ years of experience in python developer/data scientistGood experience in scripting language, debugging python code, and testing python code.Good understanding of OOP conceptsUnderstanding of Machine learning techniques and algorithms and Natural Language Processing techniques is plus.Good communication and inter-personal skills with a bachelor/masters degree in computer science.Must have actual project/product development experience using the above listed skills.Minimum 1-3 yrs of proven project experience.Qualification: BS or MS Degree in Computer Science, Information Technology, or equivalent.BCA/ BE/ MCA / B. Tech (Computer science, IT)Key Competencies & Personal Skills:Excellent organization skills, attention to detail, and ability to multi-task.Demonstrated sense of responsibility and capability to deliver quickly.Excellent communication skills. Clearly articulating/ documenting technical/ functional specifications is a key requirement.Attitude to learn new tools.Proactive problem-solver. Relationship builder and team player.Flexibility to work in multiple complex projects and changing priorities.Experience with Agile methodologyExcellent interpersonal skill (articulation using verbal and non-verbal skills).Flexible to learn.Ability to express their design ideas and thoughts.Adaptability to continuously changing team requirements.Demonstrated ability to deliver working solutions on time.Strong analytical thinking and problem-solving skillsKey Skills What we offer in this role:Best market exposure, internal visibility for growth.Work on robust, secure and architectural environment.Opportunity to work in a technical satisfying environment.Flawless blend of volume & niche to enrich your entire experience & add starts to your career.Young fast-growing team.Other Mandatory Aspects:Early/ immediate joiners are welcome\""
      ]
     },
     "execution_count": 89,
     "metadata": {},
     "output_type": "execute_result"
    }
   ],
   "source": [
    "desc_3=driver.find_element_by_xpath(\"//div[@class='clearboth description']\")\n",
    "z=desc_3.text.replace('\\n','')\n",
    "z"
   ]
  },
  {
   "cell_type": "code",
   "execution_count": 91,
   "metadata": {},
   "outputs": [
    {
     "data": {
      "text/plain": [
       "[\"Roles & Responsibilities & Key Skills:Big Data AI&MLWriting Python code using NLP and using the existing AI-ML based product to extract required data from contracts.Test and debug python programsImprove functionality of existing AIML product.Assessing and prioritizing client feature requests.Requirement gathering, solution's & client interaction.Ad-hoc analysis and results presentation in cleaner manner.2+ years of experience in python developer/data scientistGood experience in scripting language, debugging python code, and testing python code.Good understanding of OOP conceptsUnderstanding of Machine learning techniques and algorithms and Natural Language Processing techniques is plus.Good communication and inter-personal skills with a bachelor/masters degree in computer science.Must have actual project/product development experience using the above listed skills.Minimum 1-3 yrs of proven project experience.Qualification: BS or MS Degree in Computer Science, Information Technology, or equivalent.BCA/ BE/ MCA / B. Tech (Computer science, IT)Key Competencies & Personal Skills:Excellent organization skills, attention to detail, and ability to multi-task.Demonstrated sense of responsibility and capability to deliver quickly.Excellent communication skills. Clearly articulating/ documenting technical/ functional specifications is a key requirement.Attitude to learn new tools.Proactive problem-solver. Relationship builder and team player.Flexibility to work in multiple complex projects and changing priorities.Experience with Agile methodologyExcellent interpersonal skill (articulation using verbal and non-verbal skills).Flexible to learn.Ability to express their design ideas and thoughts.Adaptability to continuously changing team requirements.Demonstrated ability to deliver working solutions on time.Strong analytical thinking and problem-solving skillsKey Skills What we offer in this role:Best market exposure, internal visibility for growth.Work on robust, secure and architectural environment.Opportunity to work in a technical satisfying environment.Flawless blend of volume & niche to enrich your entire experience & add starts to your career.Young fast-growing team.Other Mandatory Aspects:Early/ immediate joiners are welcome\"]"
      ]
     },
     "execution_count": 91,
     "metadata": {},
     "output_type": "execute_result"
    }
   ],
   "source": [
    "c=z.split('\\n')\n",
    "c"
   ]
  },
  {
   "cell_type": "code",
   "execution_count": 21,
   "metadata": {},
   "outputs": [],
   "source": [
    "U_4='https://www.naukri.com/job-listings-specialist-i-data-scientist-philips-india-limited-bangalore-bengaluru-4-to-7-years-170521500993?src=jobsearchDesk&sid=16217377231564440&xp=4&px=1'"
   ]
  },
  {
   "cell_type": "code",
   "execution_count": 93,
   "metadata": {},
   "outputs": [],
   "source": [
    "driver.get(U_4)"
   ]
  },
  {
   "cell_type": "code",
   "execution_count": 95,
   "metadata": {},
   "outputs": [
    {
     "data": {
      "text/plain": [
       "'Job descriptionResponsibilities and Key Result AreasDesign and develop project prototypes and solutions.Participate in project estimation, planning and risk management activitiesIs responsible for delivering input in the planning process to the project leaderEnsures that there is proper documentation for the developed solutions.Ensure compliance to the Quality Management System and regulatory requirementsKey Technical Skills:4 - 7 yrs years of experience in data scienceDeveloped Proficient in algorithms on regression modelling (linear/logistic), supervised and unsupervised classification,tree-based techniques (Decision trees /Random forest), neural nets, bagging, Pattern Mining and boosting techniques, etc.Proficient and hands on experience in developing models using concepts of Artificial Intelligence,Machine Learning and Deep Learning related technologies (such as Keras, TensorFlow, pyTorch, Azure ML, AWS ML, Scikit, Jupyter, MatLab etc.)Experience with containers like Docker is added advantageExperience in SqlWorking experience in agile/SAFe development methodologiesSoft Skill set:Fast learner. Ability to grasp key concepts quickly with minimal or no supervisionGo-Getter Attitude. Ability to take ownership of team goals and deliver it with quality and within required timelineTeam Player attitude. Key characteristic of the individual who puts the team first before self.Ability to think out of box: Ability to come up with bright ideas and always looking at the next big thing in technologyFlexible and willingness to stretch oneself when needed.RoleSoftware DeveloperIndustry TypeMedical Services / HospitalFunctional AreaIT Software - Application Programming, MaintenanceEmployment TypeFull Time, PermanentRole CategoryProgramming & DesignEducationUG :Any Graduate in Any SpecializationPG :Post Graduation Not RequiredKey SkillsMiningdeep learningdata scienceArtificial IntelligenceMachine learningAgileHTMLRisk managementMATLABSQL'"
      ]
     },
     "execution_count": 95,
     "metadata": {},
     "output_type": "execute_result"
    }
   ],
   "source": [
    "desc_4=driver.find_element_by_xpath(\"//section[@class='job-desc']\")\n",
    "z_1=desc_4.text.replace('\\n','')\n",
    "z_1"
   ]
  },
  {
   "cell_type": "code",
   "execution_count": 97,
   "metadata": {},
   "outputs": [
    {
     "data": {
      "text/plain": [
       "['Job descriptionResponsibilities and Key Result AreasDesign and develop project prototypes and solutions.Participate in project estimation, planning and risk management activitiesIs responsible for delivering input in the planning process to the project leaderEnsures that there is proper documentation for the developed solutions.Ensure compliance to the Quality Management System and regulatory requirementsKey Technical Skills:4 - 7 yrs years of experience in data scienceDeveloped Proficient in algorithms on regression modelling (linear/logistic), supervised and unsupervised classification,tree-based techniques (Decision trees /Random forest), neural nets, bagging, Pattern Mining and boosting techniques, etc.Proficient and hands on experience in developing models using concepts of Artificial Intelligence,Machine Learning and Deep Learning related technologies (such as Keras, TensorFlow, pyTorch, Azure ML, AWS ML, Scikit, Jupyter, MatLab etc.)Experience with containers like Docker is added advantageExperience in SqlWorking experience in agile/SAFe development methodologiesSoft Skill set:Fast learner. Ability to grasp key concepts quickly with minimal or no supervisionGo-Getter Attitude. Ability to take ownership of team goals and deliver it with quality and within required timelineTeam Player attitude. Key characteristic of the individual who puts the team first before self.Ability to think out of box: Ability to come up with bright ideas and always looking at the next big thing in technologyFlexible and willingness to stretch oneself when needed.RoleSoftware DeveloperIndustry TypeMedical Services / HospitalFunctional AreaIT Software - Application Programming, MaintenanceEmployment TypeFull Time, PermanentRole CategoryProgramming & DesignEducationUG :Any Graduate in Any SpecializationPG :Post Graduation Not RequiredKey SkillsMiningdeep learningdata scienceArtificial IntelligenceMachine learningAgileHTMLRisk managementMATLABSQL']"
      ]
     },
     "execution_count": 97,
     "metadata": {},
     "output_type": "execute_result"
    }
   ],
   "source": [
    "d=z_1.split('\\n')\n",
    "d"
   ]
  },
  {
   "cell_type": "code",
   "execution_count": 99,
   "metadata": {},
   "outputs": [],
   "source": [
    "U_5='https://www.naukri.com/job-listings-data-scientist-ibm-india-pvt-limited-bangalore-bengaluru-6-to-8-years-110521907352?src=jobsearchDesk&sid=16217378987369811&xp=5&px=1'"
   ]
  },
  {
   "cell_type": "code",
   "execution_count": 100,
   "metadata": {},
   "outputs": [],
   "source": [
    "driver.get(U_5)"
   ]
  },
  {
   "cell_type": "code",
   "execution_count": 103,
   "metadata": {},
   "outputs": [
    {
     "data": {
      "text/plain": [
       "'Job DescriptionThe Data Warehousing Practitioner actively participates on multi-functional project teams developing ETL and Visualization enabled solutions, owning and leading the work done. Recommends and implements analytics enabled solutions to improve business process, to generate insights, to support business goals and strategy development. They would also own and deliver complete projects of moderate scopeAs a Senior Data Warehousing Practitioner, you recommend and implement ETL & Visualization solutions to improve business process, to generate insights, to support business goals and strategy development :You will play a lead position with a strong technology and solution delivery acumen, who will be accountable for the successful design, development, and delivery of business intelligence solutionsWill be responsible for driving the overall solution design and determining the architecture necessary for the BI team to develop and implement large complex projectsWorks with business partners, development teams and senior designers to capture requirements, determine a solution that will integrate with existing/new BI assets, review prototypes and develop iterative revisionsResponsible for leading the design of prototypes and determining final design to ensure client satisfaction with the solutionConduct impact assessment with business in order and determine high level design and size of effort based on requirementsTransforms datasets, quantitative and qualitative analysis into compelling visualsPartners and support developers through the development of complex routines to load a dimensional star schema (and supporting layers) and develops error handling processes. Similarly, supports the reporting team for the visualization buildPerform an active, leading role in shaping and enhancing overall solution, including standard patterns and best practicesIdentifies opportunities for new architectural initiatives; makes recommendations on the increasing scalability and robustness of DWH platforms and solutionsDrive improvements and enhancements to the current data landscape and future strategyPartner with Leadership team to ensure the successful delivery of projectsRemain current on new ETL/Visualization techniques and methodologies and communicate trends and opportunities to management and other developers as neededIdentify opportunities for uses of those technologies to enhance current or anticipated information systems and business goals needsIf you thrive in a dynamic, collaborative workplace, IBM provides an environment where you will be challenged and inspired every single day. And if you relish the freedom to bring creative, thoughtful solutions to the table, there s no limit to what you can accomplish here.Required Technical and Professional ExpertiseMinimum 6-8 years of experience in modeling and business system design with experience in relational SQL and NoSQL databases, including Postgres and Cassandra.Good hands on experience on DataStage, Alteryx & SSIS with multiple cloud-based solutions like Red HAT, Azure, AWS and IBM Cloud for data storage, database and ETL implementations and Visualization creationExperience with STAR and SNOWFLAKE schema techniques with additional experience in ETL/Visualization space, leading development teams to deliver successful business intelligence solutions with complex data sourcesPreferred Technical and Professional ExpertiseAbility to take care of highly personal and confidential informationExperience in understanding and executing business controlsProven analytical and problem solving skillsAmbitious individual who can work under their own direction towards agreed targets/goals.Ability to manage change and be open to it good time management and an ability to work under stressProven interpersonal skills while contributing to team effort by accomplishing related results as neededMaintain technical knowledge by attending educational workshops, reviewing publications'"
      ]
     },
     "execution_count": 103,
     "metadata": {},
     "output_type": "execute_result"
    }
   ],
   "source": [
    "desc_5=driver.find_element_by_xpath(\"//div[@class='nConfig_textblock ']\")\n",
    "z_2=desc_5.text.replace('\\n','')\n",
    "z_2"
   ]
  },
  {
   "cell_type": "code",
   "execution_count": 105,
   "metadata": {},
   "outputs": [
    {
     "data": {
      "text/plain": [
       "['Job DescriptionThe Data Warehousing Practitioner actively participates on multi-functional project teams developing ETL and Visualization enabled solutions, owning and leading the work done. Recommends and implements analytics enabled solutions to improve business process, to generate insights, to support business goals and strategy development. They would also own and deliver complete projects of moderate scopeAs a Senior Data Warehousing Practitioner, you recommend and implement ETL & Visualization solutions to improve business process, to generate insights, to support business goals and strategy development :You will play a lead position with a strong technology and solution delivery acumen, who will be accountable for the successful design, development, and delivery of business intelligence solutionsWill be responsible for driving the overall solution design and determining the architecture necessary for the BI team to develop and implement large complex projectsWorks with business partners, development teams and senior designers to capture requirements, determine a solution that will integrate with existing/new BI assets, review prototypes and develop iterative revisionsResponsible for leading the design of prototypes and determining final design to ensure client satisfaction with the solutionConduct impact assessment with business in order and determine high level design and size of effort based on requirementsTransforms datasets, quantitative and qualitative analysis into compelling visualsPartners and support developers through the development of complex routines to load a dimensional star schema (and supporting layers) and develops error handling processes. Similarly, supports the reporting team for the visualization buildPerform an active, leading role in shaping and enhancing overall solution, including standard patterns and best practicesIdentifies opportunities for new architectural initiatives; makes recommendations on the increasing scalability and robustness of DWH platforms and solutionsDrive improvements and enhancements to the current data landscape and future strategyPartner with Leadership team to ensure the successful delivery of projectsRemain current on new ETL/Visualization techniques and methodologies and communicate trends and opportunities to management and other developers as neededIdentify opportunities for uses of those technologies to enhance current or anticipated information systems and business goals needsIf you thrive in a dynamic, collaborative workplace, IBM provides an environment where you will be challenged and inspired every single day. And if you relish the freedom to bring creative, thoughtful solutions to the table, there s no limit to what you can accomplish here.Required Technical and Professional ExpertiseMinimum 6-8 years of experience in modeling and business system design with experience in relational SQL and NoSQL databases, including Postgres and Cassandra.Good hands on experience on DataStage, Alteryx & SSIS with multiple cloud-based solutions like Red HAT, Azure, AWS and IBM Cloud for data storage, database and ETL implementations and Visualization creationExperience with STAR and SNOWFLAKE schema techniques with additional experience in ETL/Visualization space, leading development teams to deliver successful business intelligence solutions with complex data sourcesPreferred Technical and Professional ExpertiseAbility to take care of highly personal and confidential informationExperience in understanding and executing business controlsProven analytical and problem solving skillsAmbitious individual who can work under their own direction towards agreed targets/goals.Ability to manage change and be open to it good time management and an ability to work under stressProven interpersonal skills while contributing to team effort by accomplishing related results as neededMaintain technical knowledge by attending educational workshops, reviewing publications']"
      ]
     },
     "execution_count": 105,
     "metadata": {},
     "output_type": "execute_result"
    }
   ],
   "source": [
    "e=z_2.split('\\n')\n",
    "e"
   ]
  },
  {
   "cell_type": "code",
   "execution_count": 106,
   "metadata": {},
   "outputs": [],
   "source": [
    "#oracle\n",
    "U_6=(\"https://www.naukri.com/job-listings-data-scientist-oracle-india-pvt-ltd-bangalore-bengaluru-6-to-10-years-190521008276?src=jobsearchDesk&sid=16217381035251411&xp=5&px=1\")"
   ]
  },
  {
   "cell_type": "code",
   "execution_count": 109,
   "metadata": {},
   "outputs": [],
   "source": [
    "driver.get(U_6)"
   ]
  },
  {
   "cell_type": "code",
   "execution_count": 111,
   "metadata": {},
   "outputs": [
    {
     "data": {
      "text/plain": [
       "'Role:Technical ArchitectSalary: Not Disclosed by RecruiterIndustry:IT Services & ConsultingFunctional Area:IT Software - Application Programming, MaintenanceRole Category:Programming & DesignEmployment Type:Full Time, Permanent'"
      ]
     },
     "execution_count": 111,
     "metadata": {},
     "output_type": "execute_result"
    }
   ],
   "source": [
    "dec_6=driver.find_element_by_xpath(\"//section[@class='getJobDescriptionOtherDetails JD av_textblock_section jDisc mt25']\")\n",
    "z_3=dec_6.text.replace('\\n','')\n",
    "z_3"
   ]
  },
  {
   "cell_type": "code",
   "execution_count": 113,
   "metadata": {},
   "outputs": [
    {
     "data": {
      "text/plain": [
       "['Role:Technical ArchitectSalary: Not Disclosed by RecruiterIndustry:IT Services & ConsultingFunctional Area:IT Software - Application Programming, MaintenanceRole Category:Programming & DesignEmployment Type:Full Time, Permanent']"
      ]
     },
     "execution_count": 113,
     "metadata": {},
     "output_type": "execute_result"
    }
   ],
   "source": [
    "f=z_3.split('\\n')\n",
    "f"
   ]
  },
  {
   "cell_type": "code",
   "execution_count": 114,
   "metadata": {},
   "outputs": [],
   "source": [
    "#SDE\n",
    "U_7=(\"https://www.naukri.com/job-listings-sde-lead-data-scientist-l3-huawei-technologies-india-pvt-ltd-bangalore-bengaluru-5-to-8-years-120521901434?src=jobsearchDesk&sid=16217384726649702&xp=7&px=1\")"
   ]
  },
  {
   "cell_type": "code",
   "execution_count": 115,
   "metadata": {},
   "outputs": [],
   "source": [
    "driver.get(U_7)"
   ]
  },
  {
   "cell_type": "code",
   "execution_count": 117,
   "metadata": {},
   "outputs": [
    {
     "data": {
      "text/plain": [
       "'Business & Team overview:Founded in 1987, Huawei is a leading global provider of ICT (information and communications technology) infrastructure and smart devices. We are committed to bringing digital to every person, home and organization for a fully connected, intelligent world. We have nearly 194,000 employees, and we operate in more than 170 countries and regions, serving more than 3 billion people around the world.Huawei Technologies has three business directions: Carrier Business Group, which provides innovative and secure network equipment to telecom carriers, including the leading 5G mobile network.Enterprise Business Group, which provides facilities and solutions to big and small companies, including IT facilities.Consumer Business Groups, which provides devices to the customer, including mobile phones, PC, tablet, TV, audio, glasses, watches, locomotives, and headphones. And also provide solutions on mobile offices, smart homes, sports and health, audio-visual entertainment, and smart travel products.This opportunity is belong to Huawei Consumer Business Group.Driven by the coordinated development of \"Chip-Device-Cloud\", consumer products such as smartphones are becoming increasingly intelligent and pervasive. The era of smart services is the future.Huawei Ads Services is dedicated to provide Huawei end-users with high-quality digital experiences, to build a business closed-loop system for Developers and Improve the ROI for the Advertisers.In 2020 Q1, along with more than 650 million users and 1,400,000 registered developers worldwide, we have the following unique advantages:1. With All-scenario intelligent solution, the Huawei devices become super entrance of traffic, including mobile phones, PC, tablet, TV, audio, glasses, watches, locomotives, and head phones2. This team will be responsible for building a new Ad Serving Platform and have the opportunity to define the product for our Huawei end-users.3. AI-Driven is the direction of Ads, Huawei is going to build a strong team in India to Innovate and deliver AI-driven Smart Ad Serving PlatformsJob Title: Lead Data ScientistWe are looking for a Lead data scientist who will help us discover the information hidden in vast amounts of Ad Campaign data, and help us to optimize the campaign to improve the advertiser ROI and improve the overall consumer experience. Your primary focus will be in applying data mining techniques, doing statistical analysis, and building high quality prediction systems using Deep learning algorithms integrated with our products. Some the key area you will be working on spend recommendation, floor price prediction, CTR/CVR prediction, market funnel analysis and perdition of lead to conversion, etc.Responsibility:Analyze the data, develop insights and identify the opportunity to utilize the data to predict various Advertisement key indicators like CTR, CVR, Inventory and Develop prediction and optimization algorithms for campaign, look alike modeling, etc for Huawei Ads.Takeup key challenges in AI-driven Smart Ad Serving Platform and focus on research and developing leading AI algorithms and productionize for Huawei Ads.Takeup initiative in identifying the SOTA and finding key gaps in AI algorithms and develop a world leading AI algorithms for optimizing real-time Ad Serving engine. Identify and optimize the core modules such as Traffic Prediction, Optimization, Ad Targeting/Re-targeting, Ad Performance Optimization, Audience insights, Attribution, Bidding, re-ranking, and Diagnostics. Support hundreds of billions of ad requests per day, with efficiently cache technology.To build and enhance Ad platform features and Prediction capabilities in Huawei Ads PlatformOptimized Cost Per Mille; Optimized Cost Per Action; Optimized Cost Per Click and Cost per Click. OCPM, OCPA, OCPC.Requirements:- Strong hands-on experience in implementing and validating big data algorithms and models including Deep Learning models like Seq2Seq/ GRU/RNN/LSTM , Knowledge Graph, Massive Graph algorithms, etc.- Programming experience with Python- Able to validate existing models including Deep Learning models with large scale dataset and able to make changes to the models to achieve better performance- AdServing domain Experience is an added advantage'"
      ]
     },
     "execution_count": 117,
     "metadata": {},
     "output_type": "execute_result"
    }
   ],
   "source": [
    "dec_7=driver.find_element_by_xpath(\"//div[@class='dang-inner-html']\")\n",
    "z_4=dec_7.text.replace('\\n','')\n",
    "z_4"
   ]
  },
  {
   "cell_type": "code",
   "execution_count": 119,
   "metadata": {},
   "outputs": [
    {
     "data": {
      "text/plain": [
       "['Business & Team overview:Founded in 1987, Huawei is a leading global provider of ICT (information and communications technology) infrastructure and smart devices. We are committed to bringing digital to every person, home and organization for a fully connected, intelligent world. We have nearly 194,000 employees, and we operate in more than 170 countries and regions, serving more than 3 billion people around the world.Huawei Technologies has three business directions: Carrier Business Group, which provides innovative and secure network equipment to telecom carriers, including the leading 5G mobile network.Enterprise Business Group, which provides facilities and solutions to big and small companies, including IT facilities.Consumer Business Groups, which provides devices to the customer, including mobile phones, PC, tablet, TV, audio, glasses, watches, locomotives, and headphones. And also provide solutions on mobile offices, smart homes, sports and health, audio-visual entertainment, and smart travel products.This opportunity is belong to Huawei Consumer Business Group.Driven by the coordinated development of \"Chip-Device-Cloud\", consumer products such as smartphones are becoming increasingly intelligent and pervasive. The era of smart services is the future.Huawei Ads Services is dedicated to provide Huawei end-users with high-quality digital experiences, to build a business closed-loop system for Developers and Improve the ROI for the Advertisers.In 2020 Q1, along with more than 650 million users and 1,400,000 registered developers worldwide, we have the following unique advantages:1. With All-scenario intelligent solution, the Huawei devices become super entrance of traffic, including mobile phones, PC, tablet, TV, audio, glasses, watches, locomotives, and head phones2. This team will be responsible for building a new Ad Serving Platform and have the opportunity to define the product for our Huawei end-users.3. AI-Driven is the direction of Ads, Huawei is going to build a strong team in India to Innovate and deliver AI-driven Smart Ad Serving PlatformsJob Title: Lead Data ScientistWe are looking for a Lead data scientist who will help us discover the information hidden in vast amounts of Ad Campaign data, and help us to optimize the campaign to improve the advertiser ROI and improve the overall consumer experience. Your primary focus will be in applying data mining techniques, doing statistical analysis, and building high quality prediction systems using Deep learning algorithms integrated with our products. Some the key area you will be working on spend recommendation, floor price prediction, CTR/CVR prediction, market funnel analysis and perdition of lead to conversion, etc.Responsibility:Analyze the data, develop insights and identify the opportunity to utilize the data to predict various Advertisement key indicators like CTR, CVR, Inventory and Develop prediction and optimization algorithms for campaign, look alike modeling, etc for Huawei Ads.Takeup key challenges in AI-driven Smart Ad Serving Platform and focus on research and developing leading AI algorithms and productionize for Huawei Ads.Takeup initiative in identifying the SOTA and finding key gaps in AI algorithms and develop a world leading AI algorithms for optimizing real-time Ad Serving engine. Identify and optimize the core modules such as Traffic Prediction, Optimization, Ad Targeting/Re-targeting, Ad Performance Optimization, Audience insights, Attribution, Bidding, re-ranking, and Diagnostics. Support hundreds of billions of ad requests per day, with efficiently cache technology.To build and enhance Ad platform features and Prediction capabilities in Huawei Ads PlatformOptimized Cost Per Mille; Optimized Cost Per Action; Optimized Cost Per Click and Cost per Click. OCPM, OCPA, OCPC.Requirements:- Strong hands-on experience in implementing and validating big data algorithms and models including Deep Learning models like Seq2Seq/ GRU/RNN/LSTM , Knowledge Graph, Massive Graph algorithms, etc.- Programming experience with Python- Able to validate existing models including Deep Learning models with large scale dataset and able to make changes to the models to achieve better performance- AdServing domain Experience is an added advantage']"
      ]
     },
     "execution_count": 119,
     "metadata": {},
     "output_type": "execute_result"
    }
   ],
   "source": [
    "g=z_4.split('\\n')\n",
    "g"
   ]
  },
  {
   "cell_type": "code",
   "execution_count": 120,
   "metadata": {},
   "outputs": [],
   "source": [
    "U_8=(\"https://www.naukri.com/job-listings-computational-design-lead-data-scientist-l3-huawei-technologies-india-pvt-ltd-bangalore-bengaluru-5-to-8-years-120521901329?src=jobsearchDesk&sid=16217398441625711&xp=8&px=1\")"
   ]
  },
  {
   "cell_type": "code",
   "execution_count": 121,
   "metadata": {},
   "outputs": [],
   "source": [
    "driver.get(U_8)"
   ]
  },
  {
   "cell_type": "code",
   "execution_count": 126,
   "metadata": {},
   "outputs": [
    {
     "data": {
      "text/plain": [
       "'Business & Team overview:Founded in 1987, Huawei is a leading global provider of ICT (information and communications technology) infrastructure and smart devices. We are committed to bringing digital to every person, home and organization for a fully connected, intelligent world. We have nearly 194,000 employees, and we operate in more than 170 countries and regions, serving more than 3 billion people around the world.Huawei Technologies has three business directions: Carrier Business Group, which provides innovative and secure network equipment to telecom carriers, including the leading 5G mobile network.Enterprise Business Group, which provides facilities and solutions to big and small companies, including IT facilities.Consumer Business Groups, which provides devices to the customer, including mobile phones, PC, tablet, TV, audio, glasses, watches, locomotives, and headphones. And also provide solutions on mobile offices, smart homes, sports and health, audio-visual entertainment, and smart travel products.This opportunity is belong to Huawei Consumer Business Group.Driven by the coordinated development of \"Chip-Device-Cloud\", consumer products such as smartphones are becoming increasingly intelligent and pervasive. The era of smart services is the future.Huawei Ads Services is dedicated to provide Huawei end-users with high-quality digital experiences, to build a business closed-loop system for Developers and Improve the ROI for the Advertisers.In 2020 Q1, along with more than 650 million users and 1,400,000 registered developers worldwide, we have the following unique advantages:1. With All-scenario intelligent solution, the Huawei devices become super entrance of traffic, including mobile phones, PC, tablet, TV, audio, glasses, watches, locomotives, and head phones2. This team will be responsible for building a new Ad Serving Platform and have the opportunity to define the product for our Huawei end-users.3. AI-Driven is the direction of Ads, Huawei is going to build a strong team in India to Innovate and deliver AI-driven Smart Ad Serving Platforms1. Job Title: Computational Design Lead Data ScientistResponsibility:Take-up Key creative tools of the creative platform for Advertisers, research and develop breakthrough CNN based deep learning algorithms to solve the problem unique in the industry and productionize the algorithms, measure the ad creative performance and enhance the algorithm to ease the Ad Designer job.Develop the common AI platforms and frameworks to ease the experimentation of the Algorithms for creative Design.To build ability to understand the advertisers intent and provide creative assistance every step of creating all types of advertsResponsible for intelligent identification of advertising creatives (pictures, videos) and related algorithms of content understanding.Responsible for Image Synthesis, Intelligent Layout, Style Transfer, and other image processing, computing and visual processing, to improve the aesthetic level of advertising creativity.Responsible for designing algorithms for suggesting how to intelligently crop and position an image for maximum effect, identify the optimal placement of text and copywriting.Responsible for the algorithm and model of dynamic matching of advertising program creativity and dynamic creation of advertising contentRequirements:Deep knowledge of Computational DesignExperience on Intelligent composition, including image cropping, smart layout, the Gold Ratio composition, visual extension.Experience computer vision models, including image/video recognition and content understanding.Experience in algorithms such as image and video segmentation, separation, synthesis, and intelligent layout with engineering platform implementation capability.Strong Knowledge Algorithms such as Image segmentation, object detection, Image processing (filtering, noise removal, histogram thresholding, etc.), object tracking, image transformation (affine transform, dewarping), keypoint detection/description, etc (and experience in using Computer vision Libraries)Strong Knowledge in CNN, R-CNN, GAN, LSTM, GRU, Multimodal feature Learning, ASR, NLU, NLG, Copywriting and KG will be an added advantageStrong logic/probability thinking ability and be good at analyzing, summarizing, describing, communicating, and solving problemsWorking experience in related online advertising products/creative platform is preferredWorking experience in Computer Vision (CV) to enhance user artistic creativity while creating creatives/adverts is preferredAbility to identify trends of advertising creative platform.'"
      ]
     },
     "execution_count": 126,
     "metadata": {},
     "output_type": "execute_result"
    }
   ],
   "source": [
    "desc_8=driver.find_element_by_xpath(\"//div[@class='dang-inner-html']\")\n",
    "z_5=desc_8.text.replace('\\n','')\n",
    "z_5"
   ]
  },
  {
   "cell_type": "code",
   "execution_count": 127,
   "metadata": {},
   "outputs": [
    {
     "data": {
      "text/plain": [
       "['Business & Team overview:Founded in 1987, Huawei is a leading global provider of ICT (information and communications technology) infrastructure and smart devices. We are committed to bringing digital to every person, home and organization for a fully connected, intelligent world. We have nearly 194,000 employees, and we operate in more than 170 countries and regions, serving more than 3 billion people around the world.Huawei Technologies has three business directions: Carrier Business Group, which provides innovative and secure network equipment to telecom carriers, including the leading 5G mobile network.Enterprise Business Group, which provides facilities and solutions to big and small companies, including IT facilities.Consumer Business Groups, which provides devices to the customer, including mobile phones, PC, tablet, TV, audio, glasses, watches, locomotives, and headphones. And also provide solutions on mobile offices, smart homes, sports and health, audio-visual entertainment, and smart travel products.This opportunity is belong to Huawei Consumer Business Group.Driven by the coordinated development of \"Chip-Device-Cloud\", consumer products such as smartphones are becoming increasingly intelligent and pervasive. The era of smart services is the future.Huawei Ads Services is dedicated to provide Huawei end-users with high-quality digital experiences, to build a business closed-loop system for Developers and Improve the ROI for the Advertisers.In 2020 Q1, along with more than 650 million users and 1,400,000 registered developers worldwide, we have the following unique advantages:1. With All-scenario intelligent solution, the Huawei devices become super entrance of traffic, including mobile phones, PC, tablet, TV, audio, glasses, watches, locomotives, and head phones2. This team will be responsible for building a new Ad Serving Platform and have the opportunity to define the product for our Huawei end-users.3. AI-Driven is the direction of Ads, Huawei is going to build a strong team in India to Innovate and deliver AI-driven Smart Ad Serving Platforms1. Job Title: Computational Design Lead Data ScientistResponsibility:Take-up Key creative tools of the creative platform for Advertisers, research and develop breakthrough CNN based deep learning algorithms to solve the problem unique in the industry and productionize the algorithms, measure the ad creative performance and enhance the algorithm to ease the Ad Designer job.Develop the common AI platforms and frameworks to ease the experimentation of the Algorithms for creative Design.To build ability to understand the advertisers intent and provide creative assistance every step of creating all types of advertsResponsible for intelligent identification of advertising creatives (pictures, videos) and related algorithms of content understanding.Responsible for Image Synthesis, Intelligent Layout, Style Transfer, and other image processing, computing and visual processing, to improve the aesthetic level of advertising creativity.Responsible for designing algorithms for suggesting how to intelligently crop and position an image for maximum effect, identify the optimal placement of text and copywriting.Responsible for the algorithm and model of dynamic matching of advertising program creativity and dynamic creation of advertising contentRequirements:Deep knowledge of Computational DesignExperience on Intelligent composition, including image cropping, smart layout, the Gold Ratio composition, visual extension.Experience computer vision models, including image/video recognition and content understanding.Experience in algorithms such as image and video segmentation, separation, synthesis, and intelligent layout with engineering platform implementation capability.Strong Knowledge Algorithms such as Image segmentation, object detection, Image processing (filtering, noise removal, histogram thresholding, etc.), object tracking, image transformation (affine transform, dewarping), keypoint detection/description, etc (and experience in using Computer vision Libraries)Strong Knowledge in CNN, R-CNN, GAN, LSTM, GRU, Multimodal feature Learning, ASR, NLU, NLG, Copywriting and KG will be an added advantageStrong logic/probability thinking ability and be good at analyzing, summarizing, describing, communicating, and solving problemsWorking experience in related online advertising products/creative platform is preferredWorking experience in Computer Vision (CV) to enhance user artistic creativity while creating creatives/adverts is preferredAbility to identify trends of advertising creative platform.']"
      ]
     },
     "execution_count": 127,
     "metadata": {},
     "output_type": "execute_result"
    }
   ],
   "source": [
    "h=z_5.split('\\n')\n",
    "h"
   ]
  },
  {
   "cell_type": "code",
   "execution_count": 129,
   "metadata": {},
   "outputs": [],
   "source": [
    "U_9=(\"https://www.naukri.com/job-listings-hiring-for-data-scientist-on-contract-basis-3-6-months-globaledx-learning-and-technology-solution-pvt-ltd-hyderabad-secunderabad-bangalore-bengaluru-mumbai-all-areas-3-to-8-years-170521003581?src=jobsearchDesk&sid=16217400843896727&xp=9&px=1\")"
   ]
  },
  {
   "cell_type": "code",
   "execution_count": 130,
   "metadata": {},
   "outputs": [],
   "source": [
    "driver.get(U_9)"
   ]
  },
  {
   "cell_type": "code",
   "execution_count": 132,
   "metadata": {},
   "outputs": [
    {
     "data": {
      "text/plain": [
       "'Job descriptionDear Aspirant,Greetings from GlobaledxRoles and ResponsibilitiesExperience : 3+ YearsCTC : Best in MarketLocation : Pan IndiaContract Period : 3-6 MonthsSkill : Python, NLP, Machine Learning Models, Data ScientistInterested, please share your updated resume to hr@globaledx.comOr Call /Whatsapp at Sowjanya : 9505072408Please share with your friends for more reach!RoleIT/Technical Content DeveloperIndustry TypeIT Services & ConsultingFunctional AreaIT Software - Application Programming, MaintenanceEmployment TypeFull Time, PermanentRole CategoryOtherEducationUG :Any Graduate in Any SpecializationKey SkillsPostgresqlDATA SCIENTISTMachine LearningScikit-LearnsqlpandasNLPoptimal codingRundeckmachine learning modelslogging frameworkshtmlNUMPYPython'"
      ]
     },
     "execution_count": 132,
     "metadata": {},
     "output_type": "execute_result"
    }
   ],
   "source": [
    "#globaledx\n",
    "desc_9=driver.find_element_by_xpath(\"//section[@class='job-desc']\")\n",
    "z_6=desc_9.text.replace('\\n','')\n",
    "z_6"
   ]
  },
  {
   "cell_type": "code",
   "execution_count": 133,
   "metadata": {},
   "outputs": [
    {
     "data": {
      "text/plain": [
       "['Job descriptionDear Aspirant,Greetings from GlobaledxRoles and ResponsibilitiesExperience : 3+ YearsCTC : Best in MarketLocation : Pan IndiaContract Period : 3-6 MonthsSkill : Python, NLP, Machine Learning Models, Data ScientistInterested, please share your updated resume to hr@globaledx.comOr Call /Whatsapp at Sowjanya : 9505072408Please share with your friends for more reach!RoleIT/Technical Content DeveloperIndustry TypeIT Services & ConsultingFunctional AreaIT Software - Application Programming, MaintenanceEmployment TypeFull Time, PermanentRole CategoryOtherEducationUG :Any Graduate in Any SpecializationKey SkillsPostgresqlDATA SCIENTISTMachine LearningScikit-LearnsqlpandasNLPoptimal codingRundeckmachine learning modelslogging frameworkshtmlNUMPYPython']"
      ]
     },
     "execution_count": 133,
     "metadata": {},
     "output_type": "execute_result"
    }
   ],
   "source": [
    "i=z_6.split('\\n')\n",
    "i"
   ]
  },
  {
   "cell_type": "code",
   "execution_count": 134,
   "metadata": {},
   "outputs": [],
   "source": [
    "U_10=(\"https://www.naukri.com/job-listings-software-engineer-ios-customer-platforms-go-jek-india-bangalore-bengaluru-2-to-7-years-210521500781?src=jobsearchDesk&sid=16217403057212721&xp=1&px=1\")"
   ]
  },
  {
   "cell_type": "code",
   "execution_count": 135,
   "metadata": {},
   "outputs": [],
   "source": [
    "driver.get(U_10)"
   ]
  },
  {
   "cell_type": "code",
   "execution_count": 137,
   "metadata": {},
   "outputs": [
    {
     "data": {
      "text/plain": [
       "'What You Will DoDesign, build and improve the mobile experiences for one of the worlds fastest growing mobile appsPartner with the product management team to define and execute the feature roadmapCoordinate with cross functional teams (Backend, DevOps, Design etc.) on planning and executionInternalize Gojek values and use them in day to day interaction as a second natureCommunicate, collaborate and work effectively across cross functional teams in a global environmentAssist with the on-boarding process by sharing contexts and pairing with new member of the teamWhat You Will NeedAt least 1 year of iOS development experienceProficient in Swift programming, Cocoa, Xcode and the iOS SDKStrong understanding of iOS Apps architecture and implementationAble to write model code for functional and nonfunctional requirements and help improve the code quality standard across the teamWorking experience with popular libraries for networking, async, image loading etcWell-versed with Agile methodologies, TDD and Test Engineering and Automation'"
      ]
     },
     "execution_count": 137,
     "metadata": {},
     "output_type": "execute_result"
    }
   ],
   "source": [
    "desc_10=driver.find_element_by_xpath(\"//div[@class='dang-inner-html']\")\n",
    "z_7=desc_10.text.replace('\\n','')\n",
    "z_7"
   ]
  },
  {
   "cell_type": "code",
   "execution_count": 140,
   "metadata": {},
   "outputs": [
    {
     "data": {
      "text/plain": [
       "['What You Will DoDesign, build and improve the mobile experiences for one of the worlds fastest growing mobile appsPartner with the product management team to define and execute the feature roadmapCoordinate with cross functional teams (Backend, DevOps, Design etc.) on planning and executionInternalize Gojek values and use them in day to day interaction as a second natureCommunicate, collaborate and work effectively across cross functional teams in a global environmentAssist with the on-boarding process by sharing contexts and pairing with new member of the teamWhat You Will NeedAt least 1 year of iOS development experienceProficient in Swift programming, Cocoa, Xcode and the iOS SDKStrong understanding of iOS Apps architecture and implementationAble to write model code for functional and nonfunctional requirements and help improve the code quality standard across the teamWorking experience with popular libraries for networking, async, image loading etcWell-versed with Agile methodologies, TDD and Test Engineering and Automation']"
      ]
     },
     "execution_count": 140,
     "metadata": {},
     "output_type": "execute_result"
    }
   ],
   "source": [
    "j=z_7.split('\\n')\n",
    "j"
   ]
  },
  {
   "cell_type": "code",
   "execution_count": 142,
   "metadata": {},
   "outputs": [
    {
     "data": {
      "text/plain": [
       "[\"Job Role : Data Scientist/Data Analyst /Business AnalystLocation : Chennai/Bangalore/Hyderabad/Pune/Mumbai/DelhiGreetings from CAIA - Center for Artificial Intelligence & Advanced Analytics43% of companies experienced a high deficit of skilled resources with Advanced Analytical skills and AI implementing capabilities in year 2020. CAIA gives you a great opportunity to enter the world of future technologies and Innovations- Data Science, Analytics, AI, Data Visualization and Cloud Computing.While 2020 was a year like no other, we are living in an interesting times where data is reshaping the world, and businesses are rapidly adopting technology to gain an edge over others. Hence, there's a substantial increase in demand for technology professionals who can implement systems in data science, machine learning and AI in Tier 1 and Tier 2 organization's working closely with us.To help you build a sustainable career we would like you to utilize data, software and Analytical approaches in Data Science and AI to up skill and get recruited into an organization appreciating your skilling journey.Applications invited from all Freshers and experienced candidates (0-3 yrs) aspiring to make a career in Artificial Intelligence and Advanced Analytics and Data Science.If you wish to make a shift in your career or undergo a career transition, upskilling is essential since it allows you to learn more about the domain and acquire the required skills.Call to schedule interview Monday -Saturday from 10:00 am to 7PmManigandan -+91 7299917200Email : manigandan@centerforaia.comWhat is needed from you?Freshers who wish to start their career in Analytics and AI and professionals who wish toupskill or change their domain to analytics and emerging technologies are free to apply.An Educational background in any one of the following- BE/B.Tech, ME/M Tech, MSc, BSc/MSc Maths and Statistics, B Com, BCA, BSc CS, BSC IT, MSC IT, MCASkills relating to Mathematics/Statistics.Natural passion towards numbers, business, coding, Analytics and Artificial Intelligence, Machine Learning, visualizationGood verbal and written communication skillsAbility to understand domains in businesses across various sectorsSelection procedure includesAptitude Test & Communication Exam - Online / OfflineSQL/Python test - Online / OfflineCandidates who clears the above will have one-one discussion with our Career Guidance Manager for further evaluation and processing of your Resume.All the Shortlisted candidates will be eligible to continue the corporate training with CAIAWhat you can expect from us?You will get trained on the following modules for a period of 12-14 weeks:SQL & PLSQLData Wrangling using PythonData Visualization Using Power-BIStatistics for Machine LearningArtificial Intelligence, Data InterpretationSupervised & Unsupervised Learning,NLP & Deep LearningCloud Data LakeBusiness intelligence & Data VisualizationSimulation ProjectsExpected Outcome?At the end of the Training you are expected to be well versed with the following:Analysis of large and complex data sets from multiple sourcesDevelopment and evaluation of data analytics models, algorithms and solutionsUnderstanding/implementation of ML algorithms, performance tuning and reportingImplementation of algorithms to mine targeted data and the ability to convert data in to a business storyTranslation of business requirements into technical requirements; Data extraction, preparation and transformationIdentification, development and implementation of statistical techniques and algorithms that address business challenges and adds value to the organizationRequirement Analysis and communication of findings in the form of a meaningful story with the stakeholdersFinding analytical solutions to abstract business issues.Apply objective analysis of facts before coming to a conclusionAbout CAIA - Inflexion Analytix Private LimitedCenter for Artificial Intelligence and Advanced Analytics (Center for AIA) is the brainchild of experienced and visionary alumni of IIT Madras and Bombay.Digital leaders - 5F World and Systech Solutions have joined hands to create a venture for architecting the future of society, workforce, governments and businesses. 5F World specializes in designing solutions around digital platforms and Systech Solutions has an expertise in architecting Artificial Intelligence and Advance Analytics solutions for Fortune 500 companies.Our Website : http://www.centerforaia.com/https://inflexion-analytix-private-limited.business.site/?m=trueCenter for Artificial Intelligence & Advanced Analytics (CAIA) focuses on the following:1. Global Research on emerging trends, technologies and applications in AI and Advanced Analytics2. Advanced Training programs for readying the future ready workforce3. Solutions to herald the futuristic lifestyle and workspaces in the field of AI and Data Science.\",\n",
       " \"Job Role : Data Scientist/Data Analyst /Business AnalystLocation : Chennai/Bangalore/Hyderabad/Pune/Mumbai/DelhiGreetings from CAIA - Center for Artificial Intelligence & Advanced Analytics43% of companies experienced a high deficit of skilled resources with Advanced Analytical skills and AI implementing capabilities in year 2020. CAIA gives you a great opportunity to enter the world of future technologies and Innovations- Data Science, Analytics, AI, Data Visualization and Cloud Computing.While 2020 was a year like no other, we are living in an interesting times where data is reshaping the world, and businesses are rapidly adopting technology to gain an edge over others. Hence, there's a substantial increase in demand for technology professionals who can implement systems in data science, machine learning and AI in Tier 1 and Tier 2 organization's working closely with us.To help you build a sustainable career we would like you to utilize data, software and Analytical approaches in Data Science and AI to up skill and get recruited into an organization appreciating your skilling journey.Applications invited from all Freshers and experienced candidates (0-3 yrs) aspiring to make a career in Artificial Intelligence and Advanced Analytics and Data Science.If you wish to make a shift in your career or undergo a career transition, upskilling is essential since it allows you to learn more about the domain and acquire the required skills.Call to schedule interview Monday -Saturday from 10:00 am to 7PmManigandan -+91 7299917200Email : manigandan@centerforaia.comWhat is needed from you?Freshers who wish to start their career in Analytics and AI and professionals who wish toupskill or change their domain to analytics and emerging technologies are free to apply.An Educational background in any one of the following- BE/B.Tech, ME/M Tech, MSc, BSc/MSc Maths and Statistics, B Com, BCA, BSc CS, BSC IT, MSC IT, MCASkills relating to Mathematics/Statistics.Natural passion towards numbers, business, coding, Analytics and Artificial Intelligence, Machine Learning, visualizationGood verbal and written communication skillsAbility to understand domains in businesses across various sectorsSelection procedure includesAptitude Test & Communication Exam - Online / OfflineSQL/Python test - Online / OfflineCandidates who clears the above will have one-one discussion with our Career Guidance Manager for further evaluation and processing of your Resume.All the Shortlisted candidates will be eligible to continue the corporate training with CAIAWhat you can expect from us?You will get trained on the following modules for a period of 12-14 weeks:SQL & PLSQLData Wrangling using PythonData Visualization Using Power-BIStatistics for Machine LearningArtificial Intelligence, Data InterpretationSupervised & Unsupervised Learning,NLP & Deep LearningCloud Data LakeBusiness intelligence & Data VisualizationSimulation ProjectsExpected Outcome?At the end of the Training you are expected to be well versed with the following:Analysis of large and complex data sets from multiple sourcesDevelopment and evaluation of data analytics models, algorithms and solutionsUnderstanding/implementation of ML algorithms, performance tuning and reportingImplementation of algorithms to mine targeted data and the ability to convert data in to a business storyTranslation of business requirements into technical requirements; Data extraction, preparation and transformationIdentification, development and implementation of statistical techniques and algorithms that address business challenges and adds value to the organizationRequirement Analysis and communication of findings in the form of a meaningful story with the stakeholdersFinding analytical solutions to abstract business issues.Apply objective analysis of facts before coming to a conclusionAbout CAIA - Inflexion Analytix Private LimitedCenter for Artificial Intelligence and Advanced Analytics (Center for AIA) is the brainchild of experienced and visionary alumni of IIT Madras and Bombay.Digital leaders - 5F World and Systech Solutions have joined hands to create a venture for architecting the future of society, workforce, governments and businesses. 5F World specializes in designing solutions around digital platforms and Systech Solutions has an expertise in architecting Artificial Intelligence and Advance Analytics solutions for Fortune 500 companies.Our Website : http://www.centerforaia.com/https://inflexion-analytix-private-limited.business.site/?m=trueCenter for Artificial Intelligence & Advanced Analytics (CAIA) focuses on the following:1. Global Research on emerging trends, technologies and applications in AI and Advanced Analytics2. Advanced Training programs for readying the future ready workforce3. Solutions to herald the futuristic lifestyle and workspaces in the field of AI and Data Science.\",\n",
       " \"Roles & Responsibilities & Key Skills:Big Data AI&MLWriting Python code using NLP and using the existing AI-ML based product to extract required data from contracts.Test and debug python programsImprove functionality of existing AIML product.Assessing and prioritizing client feature requests.Requirement gathering, solution's & client interaction.Ad-hoc analysis and results presentation in cleaner manner.2+ years of experience in python developer/data scientistGood experience in scripting language, debugging python code, and testing python code.Good understanding of OOP conceptsUnderstanding of Machine learning techniques and algorithms and Natural Language Processing techniques is plus.Good communication and inter-personal skills with a bachelor/masters degree in computer science.Must have actual project/product development experience using the above listed skills.Minimum 1-3 yrs of proven project experience.Qualification: BS or MS Degree in Computer Science, Information Technology, or equivalent.BCA/ BE/ MCA / B. Tech (Computer science, IT)Key Competencies & Personal Skills:Excellent organization skills, attention to detail, and ability to multi-task.Demonstrated sense of responsibility and capability to deliver quickly.Excellent communication skills. Clearly articulating/ documenting technical/ functional specifications is a key requirement.Attitude to learn new tools.Proactive problem-solver. Relationship builder and team player.Flexibility to work in multiple complex projects and changing priorities.Experience with Agile methodologyExcellent interpersonal skill (articulation using verbal and non-verbal skills).Flexible to learn.Ability to express their design ideas and thoughts.Adaptability to continuously changing team requirements.Demonstrated ability to deliver working solutions on time.Strong analytical thinking and problem-solving skillsKey Skills What we offer in this role:Best market exposure, internal visibility for growth.Work on robust, secure and architectural environment.Opportunity to work in a technical satisfying environment.Flawless blend of volume & niche to enrich your entire experience & add starts to your career.Young fast-growing team.Other Mandatory Aspects:Early/ immediate joiners are welcome\",\n",
       " 'Job descriptionResponsibilities and Key Result AreasDesign and develop project prototypes and solutions.Participate in project estimation, planning and risk management activitiesIs responsible for delivering input in the planning process to the project leaderEnsures that there is proper documentation for the developed solutions.Ensure compliance to the Quality Management System and regulatory requirementsKey Technical Skills:4 - 7 yrs years of experience in data scienceDeveloped Proficient in algorithms on regression modelling (linear/logistic), supervised and unsupervised classification,tree-based techniques (Decision trees /Random forest), neural nets, bagging, Pattern Mining and boosting techniques, etc.Proficient and hands on experience in developing models using concepts of Artificial Intelligence,Machine Learning and Deep Learning related technologies (such as Keras, TensorFlow, pyTorch, Azure ML, AWS ML, Scikit, Jupyter, MatLab etc.)Experience with containers like Docker is added advantageExperience in SqlWorking experience in agile/SAFe development methodologiesSoft Skill set:Fast learner. Ability to grasp key concepts quickly with minimal or no supervisionGo-Getter Attitude. Ability to take ownership of team goals and deliver it with quality and within required timelineTeam Player attitude. Key characteristic of the individual who puts the team first before self.Ability to think out of box: Ability to come up with bright ideas and always looking at the next big thing in technologyFlexible and willingness to stretch oneself when needed.RoleSoftware DeveloperIndustry TypeMedical Services / HospitalFunctional AreaIT Software - Application Programming, MaintenanceEmployment TypeFull Time, PermanentRole CategoryProgramming & DesignEducationUG :Any Graduate in Any SpecializationPG :Post Graduation Not RequiredKey SkillsMiningdeep learningdata scienceArtificial IntelligenceMachine learningAgileHTMLRisk managementMATLABSQL',\n",
       " 'Job DescriptionThe Data Warehousing Practitioner actively participates on multi-functional project teams developing ETL and Visualization enabled solutions, owning and leading the work done. Recommends and implements analytics enabled solutions to improve business process, to generate insights, to support business goals and strategy development. They would also own and deliver complete projects of moderate scopeAs a Senior Data Warehousing Practitioner, you recommend and implement ETL & Visualization solutions to improve business process, to generate insights, to support business goals and strategy development :You will play a lead position with a strong technology and solution delivery acumen, who will be accountable for the successful design, development, and delivery of business intelligence solutionsWill be responsible for driving the overall solution design and determining the architecture necessary for the BI team to develop and implement large complex projectsWorks with business partners, development teams and senior designers to capture requirements, determine a solution that will integrate with existing/new BI assets, review prototypes and develop iterative revisionsResponsible for leading the design of prototypes and determining final design to ensure client satisfaction with the solutionConduct impact assessment with business in order and determine high level design and size of effort based on requirementsTransforms datasets, quantitative and qualitative analysis into compelling visualsPartners and support developers through the development of complex routines to load a dimensional star schema (and supporting layers) and develops error handling processes. Similarly, supports the reporting team for the visualization buildPerform an active, leading role in shaping and enhancing overall solution, including standard patterns and best practicesIdentifies opportunities for new architectural initiatives; makes recommendations on the increasing scalability and robustness of DWH platforms and solutionsDrive improvements and enhancements to the current data landscape and future strategyPartner with Leadership team to ensure the successful delivery of projectsRemain current on new ETL/Visualization techniques and methodologies and communicate trends and opportunities to management and other developers as neededIdentify opportunities for uses of those technologies to enhance current or anticipated information systems and business goals needsIf you thrive in a dynamic, collaborative workplace, IBM provides an environment where you will be challenged and inspired every single day. And if you relish the freedom to bring creative, thoughtful solutions to the table, there s no limit to what you can accomplish here.Required Technical and Professional ExpertiseMinimum 6-8 years of experience in modeling and business system design with experience in relational SQL and NoSQL databases, including Postgres and Cassandra.Good hands on experience on DataStage, Alteryx & SSIS with multiple cloud-based solutions like Red HAT, Azure, AWS and IBM Cloud for data storage, database and ETL implementations and Visualization creationExperience with STAR and SNOWFLAKE schema techniques with additional experience in ETL/Visualization space, leading development teams to deliver successful business intelligence solutions with complex data sourcesPreferred Technical and Professional ExpertiseAbility to take care of highly personal and confidential informationExperience in understanding and executing business controlsProven analytical and problem solving skillsAmbitious individual who can work under their own direction towards agreed targets/goals.Ability to manage change and be open to it good time management and an ability to work under stressProven interpersonal skills while contributing to team effort by accomplishing related results as neededMaintain technical knowledge by attending educational workshops, reviewing publications',\n",
       " 'Role:Technical ArchitectSalary: Not Disclosed by RecruiterIndustry:IT Services & ConsultingFunctional Area:IT Software - Application Programming, MaintenanceRole Category:Programming & DesignEmployment Type:Full Time, Permanent',\n",
       " 'Business & Team overview:Founded in 1987, Huawei is a leading global provider of ICT (information and communications technology) infrastructure and smart devices. We are committed to bringing digital to every person, home and organization for a fully connected, intelligent world. We have nearly 194,000 employees, and we operate in more than 170 countries and regions, serving more than 3 billion people around the world.Huawei Technologies has three business directions: Carrier Business Group, which provides innovative and secure network equipment to telecom carriers, including the leading 5G mobile network.Enterprise Business Group, which provides facilities and solutions to big and small companies, including IT facilities.Consumer Business Groups, which provides devices to the customer, including mobile phones, PC, tablet, TV, audio, glasses, watches, locomotives, and headphones. And also provide solutions on mobile offices, smart homes, sports and health, audio-visual entertainment, and smart travel products.This opportunity is belong to Huawei Consumer Business Group.Driven by the coordinated development of \"Chip-Device-Cloud\", consumer products such as smartphones are becoming increasingly intelligent and pervasive. The era of smart services is the future.Huawei Ads Services is dedicated to provide Huawei end-users with high-quality digital experiences, to build a business closed-loop system for Developers and Improve the ROI for the Advertisers.In 2020 Q1, along with more than 650 million users and 1,400,000 registered developers worldwide, we have the following unique advantages:1. With All-scenario intelligent solution, the Huawei devices become super entrance of traffic, including mobile phones, PC, tablet, TV, audio, glasses, watches, locomotives, and head phones2. This team will be responsible for building a new Ad Serving Platform and have the opportunity to define the product for our Huawei end-users.3. AI-Driven is the direction of Ads, Huawei is going to build a strong team in India to Innovate and deliver AI-driven Smart Ad Serving PlatformsJob Title: Lead Data ScientistWe are looking for a Lead data scientist who will help us discover the information hidden in vast amounts of Ad Campaign data, and help us to optimize the campaign to improve the advertiser ROI and improve the overall consumer experience. Your primary focus will be in applying data mining techniques, doing statistical analysis, and building high quality prediction systems using Deep learning algorithms integrated with our products. Some the key area you will be working on spend recommendation, floor price prediction, CTR/CVR prediction, market funnel analysis and perdition of lead to conversion, etc.Responsibility:Analyze the data, develop insights and identify the opportunity to utilize the data to predict various Advertisement key indicators like CTR, CVR, Inventory and Develop prediction and optimization algorithms for campaign, look alike modeling, etc for Huawei Ads.Takeup key challenges in AI-driven Smart Ad Serving Platform and focus on research and developing leading AI algorithms and productionize for Huawei Ads.Takeup initiative in identifying the SOTA and finding key gaps in AI algorithms and develop a world leading AI algorithms for optimizing real-time Ad Serving engine. Identify and optimize the core modules such as Traffic Prediction, Optimization, Ad Targeting/Re-targeting, Ad Performance Optimization, Audience insights, Attribution, Bidding, re-ranking, and Diagnostics. Support hundreds of billions of ad requests per day, with efficiently cache technology.To build and enhance Ad platform features and Prediction capabilities in Huawei Ads PlatformOptimized Cost Per Mille; Optimized Cost Per Action; Optimized Cost Per Click and Cost per Click. OCPM, OCPA, OCPC.Requirements:- Strong hands-on experience in implementing and validating big data algorithms and models including Deep Learning models like Seq2Seq/ GRU/RNN/LSTM , Knowledge Graph, Massive Graph algorithms, etc.- Programming experience with Python- Able to validate existing models including Deep Learning models with large scale dataset and able to make changes to the models to achieve better performance- AdServing domain Experience is an added advantage',\n",
       " 'Business & Team overview:Founded in 1987, Huawei is a leading global provider of ICT (information and communications technology) infrastructure and smart devices. We are committed to bringing digital to every person, home and organization for a fully connected, intelligent world. We have nearly 194,000 employees, and we operate in more than 170 countries and regions, serving more than 3 billion people around the world.Huawei Technologies has three business directions: Carrier Business Group, which provides innovative and secure network equipment to telecom carriers, including the leading 5G mobile network.Enterprise Business Group, which provides facilities and solutions to big and small companies, including IT facilities.Consumer Business Groups, which provides devices to the customer, including mobile phones, PC, tablet, TV, audio, glasses, watches, locomotives, and headphones. And also provide solutions on mobile offices, smart homes, sports and health, audio-visual entertainment, and smart travel products.This opportunity is belong to Huawei Consumer Business Group.Driven by the coordinated development of \"Chip-Device-Cloud\", consumer products such as smartphones are becoming increasingly intelligent and pervasive. The era of smart services is the future.Huawei Ads Services is dedicated to provide Huawei end-users with high-quality digital experiences, to build a business closed-loop system for Developers and Improve the ROI for the Advertisers.In 2020 Q1, along with more than 650 million users and 1,400,000 registered developers worldwide, we have the following unique advantages:1. With All-scenario intelligent solution, the Huawei devices become super entrance of traffic, including mobile phones, PC, tablet, TV, audio, glasses, watches, locomotives, and head phones2. This team will be responsible for building a new Ad Serving Platform and have the opportunity to define the product for our Huawei end-users.3. AI-Driven is the direction of Ads, Huawei is going to build a strong team in India to Innovate and deliver AI-driven Smart Ad Serving Platforms1. Job Title: Computational Design Lead Data ScientistResponsibility:Take-up Key creative tools of the creative platform for Advertisers, research and develop breakthrough CNN based deep learning algorithms to solve the problem unique in the industry and productionize the algorithms, measure the ad creative performance and enhance the algorithm to ease the Ad Designer job.Develop the common AI platforms and frameworks to ease the experimentation of the Algorithms for creative Design.To build ability to understand the advertisers intent and provide creative assistance every step of creating all types of advertsResponsible for intelligent identification of advertising creatives (pictures, videos) and related algorithms of content understanding.Responsible for Image Synthesis, Intelligent Layout, Style Transfer, and other image processing, computing and visual processing, to improve the aesthetic level of advertising creativity.Responsible for designing algorithms for suggesting how to intelligently crop and position an image for maximum effect, identify the optimal placement of text and copywriting.Responsible for the algorithm and model of dynamic matching of advertising program creativity and dynamic creation of advertising contentRequirements:Deep knowledge of Computational DesignExperience on Intelligent composition, including image cropping, smart layout, the Gold Ratio composition, visual extension.Experience computer vision models, including image/video recognition and content understanding.Experience in algorithms such as image and video segmentation, separation, synthesis, and intelligent layout with engineering platform implementation capability.Strong Knowledge Algorithms such as Image segmentation, object detection, Image processing (filtering, noise removal, histogram thresholding, etc.), object tracking, image transformation (affine transform, dewarping), keypoint detection/description, etc (and experience in using Computer vision Libraries)Strong Knowledge in CNN, R-CNN, GAN, LSTM, GRU, Multimodal feature Learning, ASR, NLU, NLG, Copywriting and KG will be an added advantageStrong logic/probability thinking ability and be good at analyzing, summarizing, describing, communicating, and solving problemsWorking experience in related online advertising products/creative platform is preferredWorking experience in Computer Vision (CV) to enhance user artistic creativity while creating creatives/adverts is preferredAbility to identify trends of advertising creative platform.',\n",
       " 'Job descriptionDear Aspirant,Greetings from GlobaledxRoles and ResponsibilitiesExperience : 3+ YearsCTC : Best in MarketLocation : Pan IndiaContract Period : 3-6 MonthsSkill : Python, NLP, Machine Learning Models, Data ScientistInterested, please share your updated resume to hr@globaledx.comOr Call /Whatsapp at Sowjanya : 9505072408Please share with your friends for more reach!RoleIT/Technical Content DeveloperIndustry TypeIT Services & ConsultingFunctional AreaIT Software - Application Programming, MaintenanceEmployment TypeFull Time, PermanentRole CategoryOtherEducationUG :Any Graduate in Any SpecializationKey SkillsPostgresqlDATA SCIENTISTMachine LearningScikit-LearnsqlpandasNLPoptimal codingRundeckmachine learning modelslogging frameworkshtmlNUMPYPython',\n",
       " 'What You Will DoDesign, build and improve the mobile experiences for one of the worlds fastest growing mobile appsPartner with the product management team to define and execute the feature roadmapCoordinate with cross functional teams (Backend, DevOps, Design etc.) on planning and executionInternalize Gojek values and use them in day to day interaction as a second natureCommunicate, collaborate and work effectively across cross functional teams in a global environmentAssist with the on-boarding process by sharing contexts and pairing with new member of the teamWhat You Will NeedAt least 1 year of iOS development experienceProficient in Swift programming, Cocoa, Xcode and the iOS SDKStrong understanding of iOS Apps architecture and implementationAble to write model code for functional and nonfunctional requirements and help improve the code quality standard across the teamWorking experience with popular libraries for networking, async, image loading etcWell-versed with Agile methodologies, TDD and Test Engineering and Automation']"
      ]
     },
     "execution_count": 142,
     "metadata": {},
     "output_type": "execute_result"
    }
   ],
   "source": [
    "Full_Job_Description=a+b+c+d+e+f+g+h+i+j\n",
    "Full_Job_Description"
   ]
  },
  {
   "cell_type": "code",
   "execution_count": 147,
   "metadata": {},
   "outputs": [
    {
     "data": {
      "text/html": [
       "<div>\n",
       "<style scoped>\n",
       "    .dataframe tbody tr th:only-of-type {\n",
       "        vertical-align: middle;\n",
       "    }\n",
       "\n",
       "    .dataframe tbody tr th {\n",
       "        vertical-align: top;\n",
       "    }\n",
       "\n",
       "    .dataframe thead th {\n",
       "        text-align: right;\n",
       "    }\n",
       "</style>\n",
       "<table border=\"1\" class=\"dataframe\">\n",
       "  <thead>\n",
       "    <tr style=\"text-align: right;\">\n",
       "      <th></th>\n",
       "      <th>job-title</th>\n",
       "      <th>job-location</th>\n",
       "      <th>company_name</th>\n",
       "      <th>full job-description</th>\n",
       "    </tr>\n",
       "  </thead>\n",
       "  <tbody>\n",
       "    <tr>\n",
       "      <th>0</th>\n",
       "      <td>Data Scientist / Data Analyst -Business Analyst</td>\n",
       "      <td>Mumbai, Hyderabad/Secunderabad, Pune, Gurgaon/...</td>\n",
       "      <td>Inflexion Analytix Private Limited</td>\n",
       "      <td>Job Role : Data Scientist/Data Analyst /Busine...</td>\n",
       "    </tr>\n",
       "    <tr>\n",
       "      <th>1</th>\n",
       "      <td>Data Scientist</td>\n",
       "      <td>Kolkata, Hyderabad/Secunderabad, Chennai, Bang...</td>\n",
       "      <td>Wipro Limited</td>\n",
       "      <td>Job Role : Data Scientist/Data Analyst /Busine...</td>\n",
       "    </tr>\n",
       "    <tr>\n",
       "      <th>2</th>\n",
       "      <td>Big Data - Data Scientist</td>\n",
       "      <td>Kochi/Cochin, Indore, Hyderabad/Secunderabad, ...</td>\n",
       "      <td>Xoriant Solutions Pvt Ltd</td>\n",
       "      <td>Roles &amp; Responsibilities &amp; Key Skills:Big Data...</td>\n",
       "    </tr>\n",
       "    <tr>\n",
       "      <th>3</th>\n",
       "      <td>Specialist I - Data Scientist</td>\n",
       "      <td>Bangalore/Bengaluru</td>\n",
       "      <td>Philips India Limited</td>\n",
       "      <td>Job descriptionResponsibilities and Key Result...</td>\n",
       "    </tr>\n",
       "    <tr>\n",
       "      <th>4</th>\n",
       "      <td>Data Scientist</td>\n",
       "      <td>Bangalore/Bengaluru</td>\n",
       "      <td>Oracle India Pvt. Ltd.</td>\n",
       "      <td>Job DescriptionThe Data Warehousing Practition...</td>\n",
       "    </tr>\n",
       "    <tr>\n",
       "      <th>5</th>\n",
       "      <td>SDE Lead Data Scientist-L3</td>\n",
       "      <td>Bangalore/Bengaluru</td>\n",
       "      <td>Huawei Technologies India Pvt Ltd</td>\n",
       "      <td>Role:Technical ArchitectSalary: Not Disclosed ...</td>\n",
       "    </tr>\n",
       "    <tr>\n",
       "      <th>6</th>\n",
       "      <td>Computational Design Lead Data Scientist-L3</td>\n",
       "      <td>Bangalore/Bengaluru</td>\n",
       "      <td>Huawei Technologies India Pvt Ltd</td>\n",
       "      <td>Business &amp; Team overview:Founded in 1987, Huaw...</td>\n",
       "    </tr>\n",
       "    <tr>\n",
       "      <th>7</th>\n",
       "      <td>Hiring For DATA Scientist - ON Contract Basis ...</td>\n",
       "      <td>Hyderabad/Secunderabad, Bangalore/Bengaluru, M...</td>\n",
       "      <td>GlobalEdx Learning and Technology Solution Pvt...</td>\n",
       "      <td>Business &amp; Team overview:Founded in 1987, Huaw...</td>\n",
       "    </tr>\n",
       "    <tr>\n",
       "      <th>8</th>\n",
       "      <td>Senior Data Scientist</td>\n",
       "      <td>Bangalore/Bengaluru</td>\n",
       "      <td>GO-JEK India</td>\n",
       "      <td>Job descriptionDear Aspirant,Greetings from Gl...</td>\n",
       "    </tr>\n",
       "    <tr>\n",
       "      <th>9</th>\n",
       "      <td>Senior Data Scientist</td>\n",
       "      <td>Bangalore/Bengaluru</td>\n",
       "      <td>nanobi data and analytics private limited</td>\n",
       "      <td>What You Will DoDesign, build and improve the ...</td>\n",
       "    </tr>\n",
       "  </tbody>\n",
       "</table>\n",
       "</div>"
      ],
      "text/plain": [
       "                                           job-title  \\\n",
       "0    Data Scientist / Data Analyst -Business Analyst   \n",
       "1                                     Data Scientist   \n",
       "2                          Big Data - Data Scientist   \n",
       "3                      Specialist I - Data Scientist   \n",
       "4                                     Data Scientist   \n",
       "5                         SDE Lead Data Scientist-L3   \n",
       "6        Computational Design Lead Data Scientist-L3   \n",
       "7  Hiring For DATA Scientist - ON Contract Basis ...   \n",
       "8                              Senior Data Scientist   \n",
       "9                              Senior Data Scientist   \n",
       "\n",
       "                                        job-location  \\\n",
       "0  Mumbai, Hyderabad/Secunderabad, Pune, Gurgaon/...   \n",
       "1  Kolkata, Hyderabad/Secunderabad, Chennai, Bang...   \n",
       "2  Kochi/Cochin, Indore, Hyderabad/Secunderabad, ...   \n",
       "3                                Bangalore/Bengaluru   \n",
       "4                                Bangalore/Bengaluru   \n",
       "5                                Bangalore/Bengaluru   \n",
       "6                                Bangalore/Bengaluru   \n",
       "7  Hyderabad/Secunderabad, Bangalore/Bengaluru, M...   \n",
       "8                                Bangalore/Bengaluru   \n",
       "9                                Bangalore/Bengaluru   \n",
       "\n",
       "                                        company_name  \\\n",
       "0                 Inflexion Analytix Private Limited   \n",
       "1                                      Wipro Limited   \n",
       "2                          Xoriant Solutions Pvt Ltd   \n",
       "3                              Philips India Limited   \n",
       "4                             Oracle India Pvt. Ltd.   \n",
       "5                  Huawei Technologies India Pvt Ltd   \n",
       "6                  Huawei Technologies India Pvt Ltd   \n",
       "7  GlobalEdx Learning and Technology Solution Pvt...   \n",
       "8                                       GO-JEK India   \n",
       "9          nanobi data and analytics private limited   \n",
       "\n",
       "                                full job-description  \n",
       "0  Job Role : Data Scientist/Data Analyst /Busine...  \n",
       "1  Job Role : Data Scientist/Data Analyst /Busine...  \n",
       "2  Roles & Responsibilities & Key Skills:Big Data...  \n",
       "3  Job descriptionResponsibilities and Key Result...  \n",
       "4  Job DescriptionThe Data Warehousing Practition...  \n",
       "5  Role:Technical ArchitectSalary: Not Disclosed ...  \n",
       "6  Business & Team overview:Founded in 1987, Huaw...  \n",
       "7  Business & Team overview:Founded in 1987, Huaw...  \n",
       "8  Job descriptionDear Aspirant,Greetings from Gl...  \n",
       "9  What You Will DoDesign, build and improve the ...  "
      ]
     },
     "execution_count": 147,
     "metadata": {},
     "output_type": "execute_result"
    }
   ],
   "source": [
    "df=pd.DataFrame({})\n",
    "df['job-title']=Title[0:10]\n",
    "df['job-location']=Lcation[0:10]\n",
    "df['company_name']=Company [0:10]\n",
    "df['full job-description']=Full_Job_Description\n",
    "df"
   ]
  },
  {
   "cell_type": "code",
   "execution_count": null,
   "metadata": {},
   "outputs": [],
   "source": []
  }
 ],
 "metadata": {
  "kernelspec": {
   "display_name": "Python 3",
   "language": "python",
   "name": "python3"
  },
  "language_info": {
   "codemirror_mode": {
    "name": "ipython",
    "version": 3
   },
   "file_extension": ".py",
   "mimetype": "text/x-python",
   "name": "python",
   "nbconvert_exporter": "python",
   "pygments_lexer": "ipython3",
   "version": "3.8.3"
  }
 },
 "nbformat": 4,
 "nbformat_minor": 4
}

{
 "cells": [
  {
   "cell_type": "code",
   "execution_count": 1,
   "metadata": {},
   "outputs": [],
   "source": [
    "#importing the trequire libaries\n",
    "import selenium\n",
    "import pandas as pd\n",
    "from selenium import webdriver"
   ]
  },
  {
   "cell_type": "code",
   "execution_count": 2,
   "metadata": {},
   "outputs": [
    {
     "data": {
      "text/plain": [
       "<selenium.webdriver.chrome.webdriver.WebDriver (session=\"f04ea5617481796983845a3e2281ef70\")>"
      ]
     },
     "execution_count": 2,
     "metadata": {},
     "output_type": "execute_result"
    }
   ],
   "source": [
    "# connect to chrome driver\n",
    "driver=webdriver.Chrome(\"chromedriver.exe\")\n",
    "driver\n"
   ]
  },
  {
   "cell_type": "code",
   "execution_count": 3,
   "metadata": {},
   "outputs": [
    {
     "name": "stdout",
     "output_type": "stream",
     "text": [
      "Enter the textData Analyst\n"
     ]
    }
   ],
   "source": [
    "#opening the the page from nauki.com\n",
    "driver.get(\"https://www.naukri.com/\")\n",
    "user_input=input(\"Enter the text\") #ask user to enter the object the job titel,desiganation,skills.etc he or she want to search\n"
   ]
  },
  {
   "cell_type": "code",
   "execution_count": 4,
   "metadata": {},
   "outputs": [],
   "source": [
    "searchbar=driver.find_element_by_id('qsb-keyword-sugg')#webelement for the search bar by ID function \n",
    "searchbar.clear()\n",
    "searchbar.send_keys(user_input)\n"
   ]
  },
  {
   "cell_type": "code",
   "execution_count": 5,
   "metadata": {},
   "outputs": [
    {
     "name": "stdout",
     "output_type": "stream",
     "text": [
      "Enter the loaction Bangalore\n"
     ]
    }
   ],
   "source": [
    "location_input=input(\"Enter the loaction \")#ask user to enter the job loaction where he or she want to search job.\n",
    "loacation_searchbar=driver.find_element_by_id(\"qsb-location-sugg\")#webelement for Location bar by ID function\n",
    "loacation_searchbar.clear()\n",
    "loacation_searchbar.send_keys(location_input)"
   ]
  },
  {
   "cell_type": "code",
   "execution_count": 6,
   "metadata": {},
   "outputs": [],
   "source": [
    "#web element for the  search button by Xpath function\n",
    "search=driver.find_element_by_xpath(\"//div[@class='search-btn']//button\")\n",
    "search.click()"
   ]
  },
  {
   "cell_type": "code",
   "execution_count": 9,
   "metadata": {},
   "outputs": [
    {
     "data": {
      "text/plain": [
       "[<selenium.webdriver.remote.webelement.WebElement (session=\"f04ea5617481796983845a3e2281ef70\", element=\"350e7455-021f-4a39-ae79-c50a1a145ed9\")>,\n",
       " <selenium.webdriver.remote.webelement.WebElement (session=\"f04ea5617481796983845a3e2281ef70\", element=\"9421f359-240c-445f-9681-fd205ce8f957\")>,\n",
       " <selenium.webdriver.remote.webelement.WebElement (session=\"f04ea5617481796983845a3e2281ef70\", element=\"6180c32a-64c7-411e-8d0b-bfdc961586aa\")>,\n",
       " <selenium.webdriver.remote.webelement.WebElement (session=\"f04ea5617481796983845a3e2281ef70\", element=\"f481bd5d-ca05-4180-9401-cbd13ea53c12\")>,\n",
       " <selenium.webdriver.remote.webelement.WebElement (session=\"f04ea5617481796983845a3e2281ef70\", element=\"bc975398-d7ee-40b6-9e56-138cb2f76c4e\")>,\n",
       " <selenium.webdriver.remote.webelement.WebElement (session=\"f04ea5617481796983845a3e2281ef70\", element=\"2fe900e7-0dd8-4cc9-a5bd-7397b17fb48b\")>,\n",
       " <selenium.webdriver.remote.webelement.WebElement (session=\"f04ea5617481796983845a3e2281ef70\", element=\"342a0eac-9519-4276-8aa1-26d16390eedd\")>,\n",
       " <selenium.webdriver.remote.webelement.WebElement (session=\"f04ea5617481796983845a3e2281ef70\", element=\"9bdb2825-7c28-421c-b80a-1d028653a38c\")>,\n",
       " <selenium.webdriver.remote.webelement.WebElement (session=\"f04ea5617481796983845a3e2281ef70\", element=\"d5d40e72-6479-4a4d-a721-a249eb589f99\")>,\n",
       " <selenium.webdriver.remote.webelement.WebElement (session=\"f04ea5617481796983845a3e2281ef70\", element=\"dc69a44d-7d14-4e42-91bd-b866559c5f5f\")>,\n",
       " <selenium.webdriver.remote.webelement.WebElement (session=\"f04ea5617481796983845a3e2281ef70\", element=\"b55b729f-cb40-4622-9ced-cb08e153c52a\")>,\n",
       " <selenium.webdriver.remote.webelement.WebElement (session=\"f04ea5617481796983845a3e2281ef70\", element=\"902eb2e6-6dfa-44d1-9df0-a2cbc16cf370\")>,\n",
       " <selenium.webdriver.remote.webelement.WebElement (session=\"f04ea5617481796983845a3e2281ef70\", element=\"65926961-9b50-4a23-b741-d2c2eb837cfd\")>,\n",
       " <selenium.webdriver.remote.webelement.WebElement (session=\"f04ea5617481796983845a3e2281ef70\", element=\"4c82a6d2-fdb8-40c7-9f5d-da438b32327b\")>,\n",
       " <selenium.webdriver.remote.webelement.WebElement (session=\"f04ea5617481796983845a3e2281ef70\", element=\"605a24d3-21f8-47e4-acd6-d60f38b3b616\")>,\n",
       " <selenium.webdriver.remote.webelement.WebElement (session=\"f04ea5617481796983845a3e2281ef70\", element=\"08e56b07-e0e1-4433-b5e6-7b049c53527f\")>,\n",
       " <selenium.webdriver.remote.webelement.WebElement (session=\"f04ea5617481796983845a3e2281ef70\", element=\"c7ea4df2-df31-4495-b29a-d065e5ed95df\")>,\n",
       " <selenium.webdriver.remote.webelement.WebElement (session=\"f04ea5617481796983845a3e2281ef70\", element=\"9bfeb0cd-5957-405e-b0ea-5df66f487bb5\")>,\n",
       " <selenium.webdriver.remote.webelement.WebElement (session=\"f04ea5617481796983845a3e2281ef70\", element=\"ca655ace-3a29-49e9-ae9c-04a21bc2f140\")>,\n",
       " <selenium.webdriver.remote.webelement.WebElement (session=\"f04ea5617481796983845a3e2281ef70\", element=\"8c67a242-a048-4b42-ba00-dc052f6c22eb\")>,\n",
       " <selenium.webdriver.remote.webelement.WebElement (session=\"f04ea5617481796983845a3e2281ef70\", element=\"79ec7514-d328-42ff-b834-689136dfb7ce\")>,\n",
       " <selenium.webdriver.remote.webelement.WebElement (session=\"f04ea5617481796983845a3e2281ef70\", element=\"17151a0e-a47f-4cdb-b2f2-fd8961a42548\")>,\n",
       " <selenium.webdriver.remote.webelement.WebElement (session=\"f04ea5617481796983845a3e2281ef70\", element=\"056f2ab0-86c7-45e3-b078-8f6f821e528f\")>,\n",
       " <selenium.webdriver.remote.webelement.WebElement (session=\"f04ea5617481796983845a3e2281ef70\", element=\"c2a303a4-085b-4f31-95e7-6765611ec657\")>,\n",
       " <selenium.webdriver.remote.webelement.WebElement (session=\"f04ea5617481796983845a3e2281ef70\", element=\"e65e34fb-7fe5-4db2-b4e2-d882defcd6a6\")>,\n",
       " <selenium.webdriver.remote.webelement.WebElement (session=\"f04ea5617481796983845a3e2281ef70\", element=\"13bb3e10-ded4-4f0d-b94d-dc5bce0addd7\")>,\n",
       " <selenium.webdriver.remote.webelement.WebElement (session=\"f04ea5617481796983845a3e2281ef70\", element=\"c042333f-0d3b-494c-b761-6b730a24a072\")>,\n",
       " <selenium.webdriver.remote.webelement.WebElement (session=\"f04ea5617481796983845a3e2281ef70\", element=\"6c263ec0-3983-48e5-8342-66fc34e02661\")>,\n",
       " <selenium.webdriver.remote.webelement.WebElement (session=\"f04ea5617481796983845a3e2281ef70\", element=\"43092f9f-6399-40e1-a113-6c463710eff9\")>,\n",
       " <selenium.webdriver.remote.webelement.WebElement (session=\"f04ea5617481796983845a3e2281ef70\", element=\"99f31fd6-5d7a-4bc4-914e-96403e34b035\")>,\n",
       " <selenium.webdriver.remote.webelement.WebElement (session=\"f04ea5617481796983845a3e2281ef70\", element=\"37af7ac8-fb3c-4833-bd66-a8b62d77a65a\")>,\n",
       " <selenium.webdriver.remote.webelement.WebElement (session=\"f04ea5617481796983845a3e2281ef70\", element=\"45fc38fb-f68d-49cf-8718-40ce9497bfa3\")>,\n",
       " <selenium.webdriver.remote.webelement.WebElement (session=\"f04ea5617481796983845a3e2281ef70\", element=\"5cc30348-a735-4dda-9408-9f34d0f9832f\")>,\n",
       " <selenium.webdriver.remote.webelement.WebElement (session=\"f04ea5617481796983845a3e2281ef70\", element=\"b116c61a-d8fb-4744-95c6-520a6f8dde6c\")>,\n",
       " <selenium.webdriver.remote.webelement.WebElement (session=\"f04ea5617481796983845a3e2281ef70\", element=\"19e499d5-ef4b-4262-a0fc-a6f10870625e\")>,\n",
       " <selenium.webdriver.remote.webelement.WebElement (session=\"f04ea5617481796983845a3e2281ef70\", element=\"b06096d2-f603-4094-ab75-1501f80527f5\")>,\n",
       " <selenium.webdriver.remote.webelement.WebElement (session=\"f04ea5617481796983845a3e2281ef70\", element=\"c344550e-fd22-48c0-836d-0d9fb1ea412c\")>,\n",
       " <selenium.webdriver.remote.webelement.WebElement (session=\"f04ea5617481796983845a3e2281ef70\", element=\"84f132f2-0d25-4a8d-808f-7a28a0ab3570\")>,\n",
       " <selenium.webdriver.remote.webelement.WebElement (session=\"f04ea5617481796983845a3e2281ef70\", element=\"b5cd5c0a-3574-4024-a65d-ed7aa583e55f\")>,\n",
       " <selenium.webdriver.remote.webelement.WebElement (session=\"f04ea5617481796983845a3e2281ef70\", element=\"a3e3aebc-21e1-49f6-aa59-c04cdb31c075\")>,\n",
       " <selenium.webdriver.remote.webelement.WebElement (session=\"f04ea5617481796983845a3e2281ef70\", element=\"22a090d8-9fc2-4cca-be8b-c883919f9234\")>,\n",
       " <selenium.webdriver.remote.webelement.WebElement (session=\"f04ea5617481796983845a3e2281ef70\", element=\"84822bf4-19f9-4313-9881-11feb746c69a\")>,\n",
       " <selenium.webdriver.remote.webelement.WebElement (session=\"f04ea5617481796983845a3e2281ef70\", element=\"9808be08-abb8-404f-9574-86e4973dcf87\")>,\n",
       " <selenium.webdriver.remote.webelement.WebElement (session=\"f04ea5617481796983845a3e2281ef70\", element=\"a61682dc-8a37-4b5b-8526-a5f42fdc7d0b\")>,\n",
       " <selenium.webdriver.remote.webelement.WebElement (session=\"f04ea5617481796983845a3e2281ef70\", element=\"4e4706d1-deaa-48af-88f9-be02365d43a8\")>,\n",
       " <selenium.webdriver.remote.webelement.WebElement (session=\"f04ea5617481796983845a3e2281ef70\", element=\"e655cdd6-804a-419c-815e-465aa3c9e734\")>,\n",
       " <selenium.webdriver.remote.webelement.WebElement (session=\"f04ea5617481796983845a3e2281ef70\", element=\"8f58cd73-5c7a-496c-ab85-589703001c31\")>,\n",
       " <selenium.webdriver.remote.webelement.WebElement (session=\"f04ea5617481796983845a3e2281ef70\", element=\"97094164-3816-4d64-8ef9-88bb850f6e56\")>,\n",
       " <selenium.webdriver.remote.webelement.WebElement (session=\"f04ea5617481796983845a3e2281ef70\", element=\"bb1d9a93-42c1-4b38-bbd0-21bac6718eeb\")>,\n",
       " <selenium.webdriver.remote.webelement.WebElement (session=\"f04ea5617481796983845a3e2281ef70\", element=\"22bad792-295a-4362-855d-35e826f0e128\")>,\n",
       " <selenium.webdriver.remote.webelement.WebElement (session=\"f04ea5617481796983845a3e2281ef70\", element=\"61dafb57-a571-41a3-b119-73bbfb61496a\")>,\n",
       " <selenium.webdriver.remote.webelement.WebElement (session=\"f04ea5617481796983845a3e2281ef70\", element=\"7ded39b0-dcfa-49f8-8f96-c95ee28d00cf\")>,\n",
       " <selenium.webdriver.remote.webelement.WebElement (session=\"f04ea5617481796983845a3e2281ef70\", element=\"b981bd4b-0288-481b-86f4-f1cfacc8909a\")>,\n",
       " <selenium.webdriver.remote.webelement.WebElement (session=\"f04ea5617481796983845a3e2281ef70\", element=\"6e806289-7ccd-439f-9603-bfaf8455a6c8\")>,\n",
       " <selenium.webdriver.remote.webelement.WebElement (session=\"f04ea5617481796983845a3e2281ef70\", element=\"23716376-1b58-4008-8d41-0bed0e1c368e\")>,\n",
       " <selenium.webdriver.remote.webelement.WebElement (session=\"f04ea5617481796983845a3e2281ef70\", element=\"cc477e40-3998-4696-9361-d4c31e5bee55\")>,\n",
       " <selenium.webdriver.remote.webelement.WebElement (session=\"f04ea5617481796983845a3e2281ef70\", element=\"9a6213b0-192f-4514-a3d5-e04ad7104104\")>,\n",
       " <selenium.webdriver.remote.webelement.WebElement (session=\"f04ea5617481796983845a3e2281ef70\", element=\"01d7f301-2abe-4d27-be11-82ed048ab2fb\")>,\n",
       " <selenium.webdriver.remote.webelement.WebElement (session=\"f04ea5617481796983845a3e2281ef70\", element=\"2629cee2-8660-4ef3-a359-5dfd90d659aa\")>]"
      ]
     },
     "execution_count": 9,
     "metadata": {},
     "output_type": "execute_result"
    }
   ],
   "source": [
    "#fetching the url for 1& 2nd page.\n",
    "url=driver.find_elements_by_xpath(\"//div[@class='info fleft']//a\")\n",
    "url"
   ]
  },
  {
   "cell_type": "code",
   "execution_count": 10,
   "metadata": {},
   "outputs": [],
   "source": [
    "Urls=[]\n",
    "for i in range(1,2):   #we want to copy urls for the 1st and 2nd page\n",
    "    for j in url:\n",
    "        Urls.append(j.get_attribute('href'))\n",
    "    driver.find_element_by_xpath(\"//a[@class='fright fs14 btn-secondary br2']\").click() #web element for next Page button by x_path function\n",
    "        \n",
    "    \n"
   ]
  },
  {
   "cell_type": "code",
   "execution_count": 11,
   "metadata": {},
   "outputs": [
    {
     "data": {
      "text/plain": [
       "['https://www.naukri.com/job-listings-data-scientist-data-analyst-business-analyst-inflexion-analytix-private-limited-mumbai-hyderabad-secunderabad-pune-gurgaon-gurugram-chennai-bangalore-bengaluru-0-to-3-years-100521000368?src=jobsearchDesk&sid=16211596133115627&xp=1&px=1',\n",
       " 'https://www.naukri.com/inflexion-analytix-jobs-careers-3958080',\n",
       " 'https://www.naukri.com/job-listings-hiring-data-analysts-for-e-commerce-platform-wfh-allegis-services-india-pvt-ltd-bangalore-bengaluru-0-to-5-years-300421001559?src=jobsearchDesk&sid=16211596133115627&xp=2&px=1',\n",
       " 'https://www.naukri.com/allegis-services-india-jobs-careers-10698',\n",
       " 'https://www.ambitionbox.com/reviews/allegis-group-reviews?utm_campaign=srp_ratings&utm_medium=desktop&utm_source=naukri',\n",
       " 'https://www.naukri.com/job-listings-assistant-vice-president-mis-reporting-business-data-analyst-intertrustviteos-corporate-and-fund-services-pvt-ltd-mumbai-bangalore-bengaluru-12-to-18-years-080521002186?src=jobsearchDesk&sid=16211596133115627&xp=3&px=1',\n",
       " 'https://www.naukri.com/intertrustviteos-corporate-and-fund-services-jobs-careers-169930',\n",
       " 'https://www.ambitionbox.com/reviews/intertrustviteos-corporate-and-fund-services-reviews?utm_campaign=srp_ratings&utm_medium=desktop&utm_source=naukri',\n",
       " 'https://www.naukri.com/job-listings-data-analyst-applied-materials-india-private-limited-bangalore-bengaluru-7-to-10-years-030521901304?src=jobsearchDesk&sid=16211596133115627&xp=4&px=1',\n",
       " 'https://www.naukri.com/applied-materials-jobs-careers-2088272',\n",
       " 'https://www.ambitionbox.com/reviews/applied-materials-reviews?utm_campaign=srp_ratings&utm_medium=desktop&utm_source=naukri',\n",
       " 'https://www.naukri.com/job-listings-hiring-for-data-analyst-mis-reporting-analyst-bangalore-pharmaceutical-research-associates-india-pvt-ltd-bangalore-bengaluru-2-to-4-years-110521000619?src=jobsearchDesk&sid=16211596133115627&xp=5&px=1',\n",
       " 'https://www.naukri.com/pharmaceutical-research-associates-india-jobs-careers-1347244',\n",
       " 'https://www.ambitionbox.com/reviews/pra-health-sciences-reviews?utm_campaign=srp_ratings&utm_medium=desktop&utm_source=naukri',\n",
       " 'https://www.naukri.com/job-listings-da-urgent-opening-for-data-analyst-bfsi-domain-pan-india-tata-consultancy-services-ltd-kolkata-hyderabad-secunderabad-pune-ahmedabad-chennai-bangalore-bengaluru-delhi-ncr-mumbai-all-areas-4-to-9-years-030521001460?src=jobsearchDesk&sid=16211596133115627&xp=6&px=1',\n",
       " 'https://www.naukri.com/tata-consultancy-services-jobs-careers-415847',\n",
       " 'https://www.ambitionbox.com/reviews/tcs-reviews?utm_campaign=srp_ratings&utm_medium=desktop&utm_source=naukri',\n",
       " 'https://www.naukri.com/job-listings-data-analyst-informatica-mdm-shell-india-markets-private-limited-bangalore-bengaluru-6-to-9-years-120521905233?src=jobsearchDesk&sid=16211596133115627&xp=7&px=1',\n",
       " 'https://www.naukri.com/shell-india-markets-jobs-careers-3076036',\n",
       " 'https://www.ambitionbox.com/reviews/shell-reviews?utm_campaign=srp_ratings&utm_medium=desktop&utm_source=naukri',\n",
       " 'https://www.naukri.com/job-listings-data-analyst-myntra-designs-pvt-ltd-bangalore-bengaluru-3-to-6-years-050521907946?src=jobsearchDesk&sid=16211596133115627&xp=8&px=1',\n",
       " 'https://www.naukri.com/myntra-designs-jobs-careers-197884',\n",
       " 'https://www.ambitionbox.com/reviews/myntra-reviews?utm_campaign=srp_ratings&utm_medium=desktop&utm_source=naukri?utm_campaign=srp_ratings&utm_medium=desktop&utm_source=naukri?utm_campaign=srp_ratings&utm_medium=desktop&utm_source=naukri?utm_campaign=srp_ratings&utm_medium=desktop&utm_source=naukri?utm_campaign=srp_ratings&utm_medium=desktop&utm_source=naukri',\n",
       " 'https://www.naukri.com/job-listings-data-analyst-myntra-designs-pvt-ltd-bangalore-bengaluru-3-to-6-years-060521900315?src=jobsearchDesk&sid=16211596133115627&xp=9&px=1',\n",
       " 'https://www.naukri.com/myntra-designs-jobs-careers-197884',\n",
       " 'https://www.ambitionbox.com/reviews/myntra-reviews?utm_campaign=srp_ratings&utm_medium=desktop&utm_source=naukri?utm_campaign=srp_ratings&utm_medium=desktop&utm_source=naukri?utm_campaign=srp_ratings&utm_medium=desktop&utm_source=naukri?utm_campaign=srp_ratings&utm_medium=desktop&utm_source=naukri?utm_campaign=srp_ratings&utm_medium=desktop&utm_source=naukri',\n",
       " 'https://www.naukri.com/job-listings-data-analyst-myntra-designs-pvt-ltd-bangalore-bengaluru-4-to-9-years-050521904534?src=jobsearchDesk&sid=16211596133115627&xp=10&px=1',\n",
       " 'https://www.naukri.com/myntra-designs-jobs-careers-197884',\n",
       " 'https://www.ambitionbox.com/reviews/myntra-reviews?utm_campaign=srp_ratings&utm_medium=desktop&utm_source=naukri?utm_campaign=srp_ratings&utm_medium=desktop&utm_source=naukri?utm_campaign=srp_ratings&utm_medium=desktop&utm_source=naukri?utm_campaign=srp_ratings&utm_medium=desktop&utm_source=naukri?utm_campaign=srp_ratings&utm_medium=desktop&utm_source=naukri',\n",
       " 'https://www.naukri.com/job-listings-data-analyst-myntra-designs-pvt-ltd-bangalore-bengaluru-4-to-8-years-050521904533?src=jobsearchDesk&sid=16211596133115627&xp=11&px=1',\n",
       " 'https://www.naukri.com/myntra-designs-jobs-careers-197884',\n",
       " 'https://www.ambitionbox.com/reviews/myntra-reviews?utm_campaign=srp_ratings&utm_medium=desktop&utm_source=naukri?utm_campaign=srp_ratings&utm_medium=desktop&utm_source=naukri?utm_campaign=srp_ratings&utm_medium=desktop&utm_source=naukri?utm_campaign=srp_ratings&utm_medium=desktop&utm_source=naukri?utm_campaign=srp_ratings&utm_medium=desktop&utm_source=naukri',\n",
       " 'https://www.naukri.com/job-listings-data-analyst-myntra-designs-pvt-ltd-bangalore-bengaluru-3-to-6-years-040521903403?src=jobsearchDesk&sid=16211596133115627&xp=12&px=1',\n",
       " 'https://www.naukri.com/myntra-designs-jobs-careers-197884',\n",
       " 'https://www.ambitionbox.com/reviews/myntra-reviews?utm_campaign=srp_ratings&utm_medium=desktop&utm_source=naukri?utm_campaign=srp_ratings&utm_medium=desktop&utm_source=naukri?utm_campaign=srp_ratings&utm_medium=desktop&utm_source=naukri?utm_campaign=srp_ratings&utm_medium=desktop&utm_source=naukri?utm_campaign=srp_ratings&utm_medium=desktop&utm_source=naukri',\n",
       " 'https://www.naukri.com/job-listings-data-analyst-sa-tech-software-i-pvt-ltd-kolkata-pune-chennai-bangalore-bengaluru-delhi-ncr-mumbai-all-areas-1-to-3-years-110521000874?src=jobsearchDesk&sid=16211596133115627&xp=13&px=1',\n",
       " 'https://www.naukri.com/sa-tech-jobs-careers-81811',\n",
       " 'https://www.ambitionbox.com/reviews/a-s-software-services-reviews?utm_campaign=srp_ratings&utm_medium=desktop&utm_source=naukri',\n",
       " 'https://www.naukri.com/job-listings-lti-hiring-business-data-analyst-risk-reporting-larsen-toubro-infotech-limited-pune-chennai-bangalore-bengaluru-7-to-10-years-120521003828?src=jobsearchDesk&sid=16211596133115627&xp=14&px=1',\n",
       " 'https://www.naukri.com/larsen-toubro-infotech-jobs-careers-140763',\n",
       " 'https://www.ambitionbox.com/reviews/larsen-and-toubro-infotech-reviews?utm_campaign=srp_ratings&utm_medium=desktop&utm_source=naukri',\n",
       " 'https://www.naukri.com/job-listings-senior-regular-business-analyst-data-analyst-luxoft-bangalore-bengaluru-3-to-6-years-070521500916?src=jobsearchDesk&sid=16211596133115627&xp=15&px=1',\n",
       " 'https://www.naukri.com/luxoft-jobs-careers-2290196',\n",
       " 'https://www.ambitionbox.com/reviews/luxoft-reviews?utm_campaign=srp_ratings&utm_medium=desktop&utm_source=naukri',\n",
       " 'https://www.naukri.com/job-listings-cybersecurity-data-analyst-huawei-technologies-india-pvt-ltd-bangalore-bengaluru-5-to-8-years-120521900789?src=jobsearchDesk&sid=16211596133115627&xp=16&px=1',\n",
       " 'https://www.naukri.com/huawei-technologies-india-jobs-careers-75483',\n",
       " 'https://www.ambitionbox.com/reviews/huawei-technologies-reviews?utm_campaign=srp_ratings&utm_medium=desktop&utm_source=naukri',\n",
       " 'https://www.naukri.com/job-listings-data-analyst-ibm-india-pvt-limited-bangalore-bengaluru-5-to-10-years-050521905849?src=jobsearchDesk&sid=16211596133115627&xp=17&px=1',\n",
       " 'https://www.naukri.com/ibm-india-jobs-careers-16987',\n",
       " 'https://www.ambitionbox.com/reviews/ibm-reviews?utm_campaign=srp_ratings&utm_medium=desktop&utm_source=naukri',\n",
       " 'https://www.naukri.com/job-listings-business-data-analyst-mis-reporting-intertrust-group-mumbai-bangalore-bengaluru-3-to-8-years-270121001879?src=jobsearchDesk&sid=16211596133115627&xp=18&px=1',\n",
       " 'https://www.naukri.com/intertrustviteos-corporate-and-fund-services-jobs-careers-169930',\n",
       " 'https://www.ambitionbox.com/reviews/intertrust-group-reviews?utm_campaign=srp_ratings&utm_medium=desktop&utm_source=naukri',\n",
       " 'https://www.naukri.com/job-listings-data-analyst-business-analyst-latentview-analytics-private-limited-chennai-bangalore-bengaluru-1-to-5-years-070521002378?src=jobsearchDesk&sid=16211596133115627&xp=19&px=1',\n",
       " 'https://www.naukri.com/latentview-analytics-jobs-careers-2803670',\n",
       " 'https://www.ambitionbox.com/reviews/latentview-analytics-reviews?utm_campaign=srp_ratings&utm_medium=desktop&utm_source=naukri',\n",
       " 'https://www.naukri.com/job-listings-business-data-analyst-alstom-india-limited-bangalore-bengaluru-5-to-10-years-140521500035?src=jobsearchDesk&sid=16211596133115627&xp=20&px=1',\n",
       " 'https://www.naukri.com/alstom-t-d-india-jobs-careers-85270',\n",
       " 'https://www.ambitionbox.com/reviews/alstom-reviews?utm_campaign=srp_ratings&utm_medium=desktop&utm_source=naukri']"
      ]
     },
     "execution_count": 11,
     "metadata": {},
     "output_type": "execute_result"
    }
   ],
   "source": [
    "Urls"
   ]
  },
  {
   "cell_type": "code",
   "execution_count": 12,
   "metadata": {},
   "outputs": [],
   "source": [
    "Job_title=[]\n",
    "Job_location=[]\n",
    "company_name=[]\n",
    "experience_required=[]\n",
    "\n"
   ]
  },
  {
   "cell_type": "code",
   "execution_count": 13,
   "metadata": {},
   "outputs": [],
   "source": [
    "for i in range(1,2):\n",
    "    for t in driver.find_elements_by_xpath(\"//a[@class='title fw500 ellipsis']\"): #webelement for the Job Title by xpath function\n",
    "        Job_title.append(t.text.replace('\\n',''))\n",
    "        \n",
    "    for j in driver.find_elements_by_xpath(\"//li[@class='fleft grey-text br2 placeHolderLi location']//span\"):  #webelement for the Job Location by xpath function\n",
    "            Job_location.append (j.text.replace('\\n',''))\n",
    "            \n",
    "    for c in driver.find_elements_by_xpath(\"//a[@class='subTitle ellipsis fleft']\"): #webelement for the Company name by xpath function\n",
    "          company_name.append(c.text.replace('\\n',''))\n",
    "    for e in driver.find_elements_by_xpath(\"//li[@class='fleft grey-text br2 placeHolderLi experience']//span\"): #webelement for the experience required by xpath function\n",
    "        experience_required.append(e.text.replace('\\n',''))\n",
    "    driver.find_element_by_xpath(\"//a[@class='fright fs14 btn-secondary br2']\").click()"
   ]
  },
  {
   "cell_type": "code",
   "execution_count": 14,
   "metadata": {},
   "outputs": [
    {
     "data": {
      "text/plain": [
       "['Data Analyst',\n",
       " 'Associate - Data Analyst ( Growth)',\n",
       " 'Data Analyst',\n",
       " 'Associate - Data Analyst - Category Solutions',\n",
       " 'Senior Data Analyst - Data Lineage',\n",
       " 'Concentrix Innovation Labs is Hiring For Big Data- Data Analyst',\n",
       " 'Data Analyst',\n",
       " 'Data Analyst',\n",
       " 'Data Analyst',\n",
       " 'Data Analyst',\n",
       " 'Data Analyst - Graphy',\n",
       " 'MIS / Data Analyst',\n",
       " 'MIS | Admin Executive | Data Analyst | Computer Operator',\n",
       " 'Data Analyst',\n",
       " 'Data Analyst',\n",
       " 'Data Analyst',\n",
       " 'Senior Data Analyst I | Fortune 500 Client',\n",
       " 'Senior Data Analyst',\n",
       " 'Data Analyst - Consumer',\n",
       " 'Senior Data Analyst']"
      ]
     },
     "execution_count": 14,
     "metadata": {},
     "output_type": "execute_result"
    }
   ],
   "source": [
    "Job_title"
   ]
  },
  {
   "cell_type": "code",
   "execution_count": 15,
   "metadata": {},
   "outputs": [
    {
     "data": {
      "text/plain": [
       "['Bangalore/Bengaluru',\n",
       " 'Bangalore/Bengaluru',\n",
       " 'Bangalore/Bengaluru',\n",
       " 'Bangalore/Bengaluru',\n",
       " 'Bangalore/Bengaluru',\n",
       " 'Bangalore/Bengaluru, Delhi / NCR',\n",
       " 'Bangalore/Bengaluru',\n",
       " 'Bangalore/Bengaluru',\n",
       " 'Bangalore/Bengaluru',\n",
       " 'Bangalore/Bengaluru(2nd Phase JP Nagar)',\n",
       " 'Bangalore/Bengaluru',\n",
       " 'Bangalore/Bengaluru',\n",
       " 'Hyderabad/Secunderabad, Pune, Ahmedabad, Chennai, Bangalore/Bengaluru',\n",
       " 'Chennai, Bangalore/Bengaluru, Mumbai (All Areas)',\n",
       " 'Mumbai, Bangalore/Bengaluru',\n",
       " 'Bangalore/Bengaluru',\n",
       " 'Bangalore/Bengaluru',\n",
       " 'Bangalore/Bengaluru',\n",
       " 'Bangalore/Bengaluru',\n",
       " 'Bangalore/Bengaluru']"
      ]
     },
     "execution_count": 15,
     "metadata": {},
     "output_type": "execute_result"
    }
   ],
   "source": [
    "Job_location"
   ]
  },
  {
   "cell_type": "code",
   "execution_count": 16,
   "metadata": {},
   "outputs": [
    {
     "data": {
      "text/plain": [
       "['Udaan',\n",
       " 'Myntra Designs Pvt. Ltd.',\n",
       " 'Yodlee Infotech Private Limited',\n",
       " 'Myntra Designs Pvt. Ltd.',\n",
       " 'Opex Global Services',\n",
       " 'Concentrix Daksh Services India Private Limited.',\n",
       " 'Concerto.ai',\n",
       " 'Clarivate Analytics (TRCPL Projects Pvt Ltd.)',\n",
       " 'Kwalee ltd.',\n",
       " 'Liventus, Inc.',\n",
       " 'Unacademy',\n",
       " 'DocsApp',\n",
       " 'logicurve',\n",
       " 'FedEx Express',\n",
       " 'Lead School',\n",
       " 'GlaxoSmithKline Pharmaceuticals Limited',\n",
       " 'ANSR GLOBAL CORPORATION PRIVATE LIMITED',\n",
       " 'AR SOLUTIONS',\n",
       " 'GO-JEK India',\n",
       " 'Publicis Groupe']"
      ]
     },
     "execution_count": 16,
     "metadata": {},
     "output_type": "execute_result"
    }
   ],
   "source": [
    "company_name"
   ]
  },
  {
   "cell_type": "code",
   "execution_count": 17,
   "metadata": {},
   "outputs": [
    {
     "data": {
      "text/plain": [
       "['1-6 Yrs',\n",
       " '2-3 Yrs',\n",
       " '2-6 Yrs',\n",
       " '2-4 Yrs',\n",
       " '5-10 Yrs',\n",
       " '2-7 Yrs',\n",
       " '3-5 Yrs',\n",
       " '1-2 Yrs',\n",
       " '2-7 Yrs',\n",
       " '3-6 Yrs',\n",
       " '1-4 Yrs',\n",
       " '1-3 Yrs',\n",
       " '0-3 Yrs',\n",
       " '1-4 Yrs',\n",
       " '4-7 Yrs',\n",
       " '0-2 Yrs',\n",
       " '5-8 Yrs',\n",
       " '3-5 Yrs',\n",
       " '3-8 Yrs',\n",
       " '2-8 Yrs']"
      ]
     },
     "execution_count": 17,
     "metadata": {},
     "output_type": "execute_result"
    }
   ],
   "source": [
    "experience_required"
   ]
  },
  {
   "cell_type": "code",
   "execution_count": 18,
   "metadata": {},
   "outputs": [
    {
     "name": "stdout",
     "output_type": "stream",
     "text": [
      "20 20 20 20\n"
     ]
    }
   ],
   "source": [
    "#checking the length of each columns\n",
    "print(len(Job_title),len(Job_location),len(company_name),len(experience_required))"
   ]
  },
  {
   "cell_type": "code",
   "execution_count": 22,
   "metadata": {},
   "outputs": [
    {
     "data": {
      "text/html": [
       "<div>\n",
       "<style scoped>\n",
       "    .dataframe tbody tr th:only-of-type {\n",
       "        vertical-align: middle;\n",
       "    }\n",
       "\n",
       "    .dataframe tbody tr th {\n",
       "        vertical-align: top;\n",
       "    }\n",
       "\n",
       "    .dataframe thead th {\n",
       "        text-align: right;\n",
       "    }\n",
       "</style>\n",
       "<table border=\"1\" class=\"dataframe\">\n",
       "  <thead>\n",
       "    <tr style=\"text-align: right;\">\n",
       "      <th></th>\n",
       "      <th>Job_title</th>\n",
       "      <th>Job_location</th>\n",
       "      <th>company_name</th>\n",
       "      <th>experience_required</th>\n",
       "    </tr>\n",
       "  </thead>\n",
       "  <tbody>\n",
       "    <tr>\n",
       "      <th>0</th>\n",
       "      <td>Data Analyst</td>\n",
       "      <td>Bangalore/Bengaluru</td>\n",
       "      <td>Udaan</td>\n",
       "      <td>1-6 Yrs</td>\n",
       "    </tr>\n",
       "    <tr>\n",
       "      <th>1</th>\n",
       "      <td>Associate - Data Analyst ( Growth)</td>\n",
       "      <td>Bangalore/Bengaluru</td>\n",
       "      <td>Myntra Designs Pvt. Ltd.</td>\n",
       "      <td>2-3 Yrs</td>\n",
       "    </tr>\n",
       "    <tr>\n",
       "      <th>2</th>\n",
       "      <td>Data Analyst</td>\n",
       "      <td>Bangalore/Bengaluru</td>\n",
       "      <td>Yodlee Infotech Private Limited</td>\n",
       "      <td>2-6 Yrs</td>\n",
       "    </tr>\n",
       "    <tr>\n",
       "      <th>3</th>\n",
       "      <td>Associate - Data Analyst - Category Solutions</td>\n",
       "      <td>Bangalore/Bengaluru</td>\n",
       "      <td>Myntra Designs Pvt. Ltd.</td>\n",
       "      <td>2-4 Yrs</td>\n",
       "    </tr>\n",
       "    <tr>\n",
       "      <th>4</th>\n",
       "      <td>Senior Data Analyst - Data Lineage</td>\n",
       "      <td>Bangalore/Bengaluru</td>\n",
       "      <td>Opex Global Services</td>\n",
       "      <td>5-10 Yrs</td>\n",
       "    </tr>\n",
       "    <tr>\n",
       "      <th>5</th>\n",
       "      <td>Concentrix Innovation Labs is Hiring For Big D...</td>\n",
       "      <td>Bangalore/Bengaluru, Delhi / NCR</td>\n",
       "      <td>Concentrix Daksh Services India Private Limited.</td>\n",
       "      <td>2-7 Yrs</td>\n",
       "    </tr>\n",
       "    <tr>\n",
       "      <th>6</th>\n",
       "      <td>Data Analyst</td>\n",
       "      <td>Bangalore/Bengaluru</td>\n",
       "      <td>Concerto.ai</td>\n",
       "      <td>3-5 Yrs</td>\n",
       "    </tr>\n",
       "    <tr>\n",
       "      <th>7</th>\n",
       "      <td>Data Analyst</td>\n",
       "      <td>Bangalore/Bengaluru</td>\n",
       "      <td>Clarivate Analytics (TRCPL Projects Pvt Ltd.)</td>\n",
       "      <td>1-2 Yrs</td>\n",
       "    </tr>\n",
       "    <tr>\n",
       "      <th>8</th>\n",
       "      <td>Data Analyst</td>\n",
       "      <td>Bangalore/Bengaluru</td>\n",
       "      <td>Kwalee ltd.</td>\n",
       "      <td>2-7 Yrs</td>\n",
       "    </tr>\n",
       "    <tr>\n",
       "      <th>9</th>\n",
       "      <td>Data Analyst</td>\n",
       "      <td>Bangalore/Bengaluru(2nd Phase JP Nagar)</td>\n",
       "      <td>Liventus, Inc.</td>\n",
       "      <td>3-6 Yrs</td>\n",
       "    </tr>\n",
       "    <tr>\n",
       "      <th>10</th>\n",
       "      <td>Data Analyst - Graphy</td>\n",
       "      <td>Bangalore/Bengaluru</td>\n",
       "      <td>Unacademy</td>\n",
       "      <td>1-4 Yrs</td>\n",
       "    </tr>\n",
       "    <tr>\n",
       "      <th>11</th>\n",
       "      <td>MIS / Data Analyst</td>\n",
       "      <td>Bangalore/Bengaluru</td>\n",
       "      <td>DocsApp</td>\n",
       "      <td>1-3 Yrs</td>\n",
       "    </tr>\n",
       "    <tr>\n",
       "      <th>12</th>\n",
       "      <td>MIS | Admin Executive | Data Analyst | Compute...</td>\n",
       "      <td>Hyderabad/Secunderabad, Pune, Ahmedabad, Chenn...</td>\n",
       "      <td>logicurve</td>\n",
       "      <td>0-3 Yrs</td>\n",
       "    </tr>\n",
       "    <tr>\n",
       "      <th>13</th>\n",
       "      <td>Data Analyst</td>\n",
       "      <td>Chennai, Bangalore/Bengaluru, Mumbai (All Areas)</td>\n",
       "      <td>FedEx Express</td>\n",
       "      <td>1-4 Yrs</td>\n",
       "    </tr>\n",
       "    <tr>\n",
       "      <th>14</th>\n",
       "      <td>Data Analyst</td>\n",
       "      <td>Mumbai, Bangalore/Bengaluru</td>\n",
       "      <td>Lead School</td>\n",
       "      <td>4-7 Yrs</td>\n",
       "    </tr>\n",
       "    <tr>\n",
       "      <th>15</th>\n",
       "      <td>Data Analyst</td>\n",
       "      <td>Bangalore/Bengaluru</td>\n",
       "      <td>GlaxoSmithKline Pharmaceuticals Limited</td>\n",
       "      <td>0-2 Yrs</td>\n",
       "    </tr>\n",
       "    <tr>\n",
       "      <th>16</th>\n",
       "      <td>Senior Data Analyst I | Fortune 500 Client</td>\n",
       "      <td>Bangalore/Bengaluru</td>\n",
       "      <td>ANSR GLOBAL CORPORATION PRIVATE LIMITED</td>\n",
       "      <td>5-8 Yrs</td>\n",
       "    </tr>\n",
       "    <tr>\n",
       "      <th>17</th>\n",
       "      <td>Senior Data Analyst</td>\n",
       "      <td>Bangalore/Bengaluru</td>\n",
       "      <td>AR SOLUTIONS</td>\n",
       "      <td>3-5 Yrs</td>\n",
       "    </tr>\n",
       "    <tr>\n",
       "      <th>18</th>\n",
       "      <td>Data Analyst - Consumer</td>\n",
       "      <td>Bangalore/Bengaluru</td>\n",
       "      <td>GO-JEK India</td>\n",
       "      <td>3-8 Yrs</td>\n",
       "    </tr>\n",
       "    <tr>\n",
       "      <th>19</th>\n",
       "      <td>Senior Data Analyst</td>\n",
       "      <td>Bangalore/Bengaluru</td>\n",
       "      <td>Publicis Groupe</td>\n",
       "      <td>2-8 Yrs</td>\n",
       "    </tr>\n",
       "  </tbody>\n",
       "</table>\n",
       "</div>"
      ],
      "text/plain": [
       "                                            Job_title  \\\n",
       "0                                        Data Analyst   \n",
       "1                  Associate - Data Analyst ( Growth)   \n",
       "2                                        Data Analyst   \n",
       "3       Associate - Data Analyst - Category Solutions   \n",
       "4                  Senior Data Analyst - Data Lineage   \n",
       "5   Concentrix Innovation Labs is Hiring For Big D...   \n",
       "6                                        Data Analyst   \n",
       "7                                        Data Analyst   \n",
       "8                                        Data Analyst   \n",
       "9                                        Data Analyst   \n",
       "10                              Data Analyst - Graphy   \n",
       "11                                 MIS / Data Analyst   \n",
       "12  MIS | Admin Executive | Data Analyst | Compute...   \n",
       "13                                       Data Analyst   \n",
       "14                                       Data Analyst   \n",
       "15                                       Data Analyst   \n",
       "16         Senior Data Analyst I | Fortune 500 Client   \n",
       "17                                Senior Data Analyst   \n",
       "18                            Data Analyst - Consumer   \n",
       "19                                Senior Data Analyst   \n",
       "\n",
       "                                         Job_location  \\\n",
       "0                                 Bangalore/Bengaluru   \n",
       "1                                 Bangalore/Bengaluru   \n",
       "2                                 Bangalore/Bengaluru   \n",
       "3                                 Bangalore/Bengaluru   \n",
       "4                                 Bangalore/Bengaluru   \n",
       "5                    Bangalore/Bengaluru, Delhi / NCR   \n",
       "6                                 Bangalore/Bengaluru   \n",
       "7                                 Bangalore/Bengaluru   \n",
       "8                                 Bangalore/Bengaluru   \n",
       "9             Bangalore/Bengaluru(2nd Phase JP Nagar)   \n",
       "10                                Bangalore/Bengaluru   \n",
       "11                                Bangalore/Bengaluru   \n",
       "12  Hyderabad/Secunderabad, Pune, Ahmedabad, Chenn...   \n",
       "13   Chennai, Bangalore/Bengaluru, Mumbai (All Areas)   \n",
       "14                        Mumbai, Bangalore/Bengaluru   \n",
       "15                                Bangalore/Bengaluru   \n",
       "16                                Bangalore/Bengaluru   \n",
       "17                                Bangalore/Bengaluru   \n",
       "18                                Bangalore/Bengaluru   \n",
       "19                                Bangalore/Bengaluru   \n",
       "\n",
       "                                        company_name experience_required  \n",
       "0                                              Udaan             1-6 Yrs  \n",
       "1                           Myntra Designs Pvt. Ltd.             2-3 Yrs  \n",
       "2                    Yodlee Infotech Private Limited             2-6 Yrs  \n",
       "3                           Myntra Designs Pvt. Ltd.             2-4 Yrs  \n",
       "4                               Opex Global Services            5-10 Yrs  \n",
       "5   Concentrix Daksh Services India Private Limited.             2-7 Yrs  \n",
       "6                                        Concerto.ai             3-5 Yrs  \n",
       "7      Clarivate Analytics (TRCPL Projects Pvt Ltd.)             1-2 Yrs  \n",
       "8                                        Kwalee ltd.             2-7 Yrs  \n",
       "9                                     Liventus, Inc.             3-6 Yrs  \n",
       "10                                         Unacademy             1-4 Yrs  \n",
       "11                                           DocsApp             1-3 Yrs  \n",
       "12                                         logicurve             0-3 Yrs  \n",
       "13                                     FedEx Express             1-4 Yrs  \n",
       "14                                       Lead School             4-7 Yrs  \n",
       "15           GlaxoSmithKline Pharmaceuticals Limited             0-2 Yrs  \n",
       "16           ANSR GLOBAL CORPORATION PRIVATE LIMITED             5-8 Yrs  \n",
       "17                                      AR SOLUTIONS             3-5 Yrs  \n",
       "18                                      GO-JEK India             3-8 Yrs  \n",
       "19                                   Publicis Groupe             2-8 Yrs  "
      ]
     },
     "execution_count": 22,
     "metadata": {},
     "output_type": "execute_result"
    }
   ],
   "source": [
    "df=pd.DataFrame({})\n",
    "df['Job_title']=Job_title\n",
    "df['Job_location']=Job_location\n",
    "df['company_name']=company_name\n",
    "df['experience_required']=experience_required\n",
    "df"
   ]
  },
  {
   "cell_type": "markdown",
   "metadata": {},
   "source": [
    "# top 10 Job Data"
   ]
  },
  {
   "cell_type": "code",
   "execution_count": 23,
   "metadata": {},
   "outputs": [
    {
     "data": {
      "text/html": [
       "<div>\n",
       "<style scoped>\n",
       "    .dataframe tbody tr th:only-of-type {\n",
       "        vertical-align: middle;\n",
       "    }\n",
       "\n",
       "    .dataframe tbody tr th {\n",
       "        vertical-align: top;\n",
       "    }\n",
       "\n",
       "    .dataframe thead th {\n",
       "        text-align: right;\n",
       "    }\n",
       "</style>\n",
       "<table border=\"1\" class=\"dataframe\">\n",
       "  <thead>\n",
       "    <tr style=\"text-align: right;\">\n",
       "      <th></th>\n",
       "      <th>Job_title</th>\n",
       "      <th>Job_location</th>\n",
       "      <th>company_name</th>\n",
       "      <th>experience_required</th>\n",
       "    </tr>\n",
       "  </thead>\n",
       "  <tbody>\n",
       "    <tr>\n",
       "      <th>0</th>\n",
       "      <td>Data Analyst</td>\n",
       "      <td>Bangalore/Bengaluru</td>\n",
       "      <td>Udaan</td>\n",
       "      <td>1-6 Yrs</td>\n",
       "    </tr>\n",
       "    <tr>\n",
       "      <th>1</th>\n",
       "      <td>Associate - Data Analyst ( Growth)</td>\n",
       "      <td>Bangalore/Bengaluru</td>\n",
       "      <td>Myntra Designs Pvt. Ltd.</td>\n",
       "      <td>2-3 Yrs</td>\n",
       "    </tr>\n",
       "    <tr>\n",
       "      <th>2</th>\n",
       "      <td>Data Analyst</td>\n",
       "      <td>Bangalore/Bengaluru</td>\n",
       "      <td>Yodlee Infotech Private Limited</td>\n",
       "      <td>2-6 Yrs</td>\n",
       "    </tr>\n",
       "    <tr>\n",
       "      <th>3</th>\n",
       "      <td>Associate - Data Analyst - Category Solutions</td>\n",
       "      <td>Bangalore/Bengaluru</td>\n",
       "      <td>Myntra Designs Pvt. Ltd.</td>\n",
       "      <td>2-4 Yrs</td>\n",
       "    </tr>\n",
       "    <tr>\n",
       "      <th>4</th>\n",
       "      <td>Senior Data Analyst - Data Lineage</td>\n",
       "      <td>Bangalore/Bengaluru</td>\n",
       "      <td>Opex Global Services</td>\n",
       "      <td>5-10 Yrs</td>\n",
       "    </tr>\n",
       "    <tr>\n",
       "      <th>5</th>\n",
       "      <td>Concentrix Innovation Labs is Hiring For Big D...</td>\n",
       "      <td>Bangalore/Bengaluru, Delhi / NCR</td>\n",
       "      <td>Concentrix Daksh Services India Private Limited.</td>\n",
       "      <td>2-7 Yrs</td>\n",
       "    </tr>\n",
       "    <tr>\n",
       "      <th>6</th>\n",
       "      <td>Data Analyst</td>\n",
       "      <td>Bangalore/Bengaluru</td>\n",
       "      <td>Concerto.ai</td>\n",
       "      <td>3-5 Yrs</td>\n",
       "    </tr>\n",
       "    <tr>\n",
       "      <th>7</th>\n",
       "      <td>Data Analyst</td>\n",
       "      <td>Bangalore/Bengaluru</td>\n",
       "      <td>Clarivate Analytics (TRCPL Projects Pvt Ltd.)</td>\n",
       "      <td>1-2 Yrs</td>\n",
       "    </tr>\n",
       "    <tr>\n",
       "      <th>8</th>\n",
       "      <td>Data Analyst</td>\n",
       "      <td>Bangalore/Bengaluru</td>\n",
       "      <td>Kwalee ltd.</td>\n",
       "      <td>2-7 Yrs</td>\n",
       "    </tr>\n",
       "    <tr>\n",
       "      <th>9</th>\n",
       "      <td>Data Analyst</td>\n",
       "      <td>Bangalore/Bengaluru(2nd Phase JP Nagar)</td>\n",
       "      <td>Liventus, Inc.</td>\n",
       "      <td>3-6 Yrs</td>\n",
       "    </tr>\n",
       "  </tbody>\n",
       "</table>\n",
       "</div>"
      ],
      "text/plain": [
       "                                           Job_title  \\\n",
       "0                                       Data Analyst   \n",
       "1                 Associate - Data Analyst ( Growth)   \n",
       "2                                       Data Analyst   \n",
       "3      Associate - Data Analyst - Category Solutions   \n",
       "4                 Senior Data Analyst - Data Lineage   \n",
       "5  Concentrix Innovation Labs is Hiring For Big D...   \n",
       "6                                       Data Analyst   \n",
       "7                                       Data Analyst   \n",
       "8                                       Data Analyst   \n",
       "9                                       Data Analyst   \n",
       "\n",
       "                              Job_location  \\\n",
       "0                      Bangalore/Bengaluru   \n",
       "1                      Bangalore/Bengaluru   \n",
       "2                      Bangalore/Bengaluru   \n",
       "3                      Bangalore/Bengaluru   \n",
       "4                      Bangalore/Bengaluru   \n",
       "5         Bangalore/Bengaluru, Delhi / NCR   \n",
       "6                      Bangalore/Bengaluru   \n",
       "7                      Bangalore/Bengaluru   \n",
       "8                      Bangalore/Bengaluru   \n",
       "9  Bangalore/Bengaluru(2nd Phase JP Nagar)   \n",
       "\n",
       "                                       company_name experience_required  \n",
       "0                                             Udaan             1-6 Yrs  \n",
       "1                          Myntra Designs Pvt. Ltd.             2-3 Yrs  \n",
       "2                   Yodlee Infotech Private Limited             2-6 Yrs  \n",
       "3                          Myntra Designs Pvt. Ltd.             2-4 Yrs  \n",
       "4                              Opex Global Services            5-10 Yrs  \n",
       "5  Concentrix Daksh Services India Private Limited.             2-7 Yrs  \n",
       "6                                       Concerto.ai             3-5 Yrs  \n",
       "7     Clarivate Analytics (TRCPL Projects Pvt Ltd.)             1-2 Yrs  \n",
       "8                                       Kwalee ltd.             2-7 Yrs  \n",
       "9                                    Liventus, Inc.             3-6 Yrs  "
      ]
     },
     "execution_count": 23,
     "metadata": {},
     "output_type": "execute_result"
    }
   ],
   "source": [
    "df.iloc[0:10]"
   ]
  },
  {
   "cell_type": "code",
   "execution_count": null,
   "metadata": {},
   "outputs": [],
   "source": []
  },
  {
   "cell_type": "code",
   "execution_count": null,
   "metadata": {},
   "outputs": [],
   "source": []
  },
  {
   "cell_type": "code",
   "execution_count": null,
   "metadata": {},
   "outputs": [],
   "source": []
  },
  {
   "cell_type": "code",
   "execution_count": null,
   "metadata": {},
   "outputs": [],
   "source": []
  },
  {
   "cell_type": "code",
   "execution_count": null,
   "metadata": {},
   "outputs": [],
   "source": []
  },
  {
   "cell_type": "code",
   "execution_count": null,
   "metadata": {},
   "outputs": [],
   "source": []
  },
  {
   "cell_type": "code",
   "execution_count": null,
   "metadata": {},
   "outputs": [],
   "source": []
  },
  {
   "cell_type": "code",
   "execution_count": null,
   "metadata": {},
   "outputs": [],
   "source": []
  },
  {
   "cell_type": "code",
   "execution_count": null,
   "metadata": {},
   "outputs": [],
   "source": []
  },
  {
   "cell_type": "code",
   "execution_count": null,
   "metadata": {},
   "outputs": [],
   "source": []
  },
  {
   "cell_type": "code",
   "execution_count": null,
   "metadata": {},
   "outputs": [],
   "source": []
  },
  {
   "cell_type": "code",
   "execution_count": null,
   "metadata": {},
   "outputs": [],
   "source": []
  },
  {
   "cell_type": "code",
   "execution_count": null,
   "metadata": {},
   "outputs": [],
   "source": []
  },
  {
   "cell_type": "code",
   "execution_count": null,
   "metadata": {},
   "outputs": [],
   "source": []
  },
  {
   "cell_type": "code",
   "execution_count": null,
   "metadata": {},
   "outputs": [],
   "source": []
  },
  {
   "cell_type": "code",
   "execution_count": null,
   "metadata": {},
   "outputs": [],
   "source": []
  },
  {
   "cell_type": "code",
   "execution_count": null,
   "metadata": {},
   "outputs": [],
   "source": []
  },
  {
   "cell_type": "code",
   "execution_count": null,
   "metadata": {},
   "outputs": [],
   "source": []
  },
  {
   "cell_type": "code",
   "execution_count": null,
   "metadata": {},
   "outputs": [],
   "source": []
  },
  {
   "cell_type": "code",
   "execution_count": null,
   "metadata": {},
   "outputs": [],
   "source": []
  },
  {
   "cell_type": "code",
   "execution_count": null,
   "metadata": {},
   "outputs": [],
   "source": []
  },
  {
   "cell_type": "code",
   "execution_count": null,
   "metadata": {},
   "outputs": [],
   "source": []
  },
  {
   "cell_type": "code",
   "execution_count": null,
   "metadata": {},
   "outputs": [],
   "source": []
  },
  {
   "cell_type": "code",
   "execution_count": null,
   "metadata": {},
   "outputs": [],
   "source": []
  },
  {
   "cell_type": "code",
   "execution_count": null,
   "metadata": {},
   "outputs": [],
   "source": []
  },
  {
   "cell_type": "code",
   "execution_count": null,
   "metadata": {},
   "outputs": [],
   "source": []
  },
  {
   "cell_type": "code",
   "execution_count": null,
   "metadata": {},
   "outputs": [],
   "source": []
  },
  {
   "cell_type": "code",
   "execution_count": null,
   "metadata": {},
   "outputs": [],
   "source": []
  },
  {
   "cell_type": "code",
   "execution_count": null,
   "metadata": {},
   "outputs": [],
   "source": []
  },
  {
   "cell_type": "code",
   "execution_count": null,
   "metadata": {},
   "outputs": [],
   "source": []
  },
  {
   "cell_type": "code",
   "execution_count": null,
   "metadata": {},
   "outputs": [],
   "source": []
  },
  {
   "cell_type": "code",
   "execution_count": null,
   "metadata": {},
   "outputs": [],
   "source": []
  },
  {
   "cell_type": "code",
   "execution_count": null,
   "metadata": {},
   "outputs": [],
   "source": []
  },
  {
   "cell_type": "code",
   "execution_count": null,
   "metadata": {},
   "outputs": [],
   "source": []
  },
  {
   "cell_type": "code",
   "execution_count": null,
   "metadata": {},
   "outputs": [],
   "source": []
  },
  {
   "cell_type": "code",
   "execution_count": null,
   "metadata": {},
   "outputs": [],
   "source": []
  },
  {
   "cell_type": "code",
   "execution_count": null,
   "metadata": {},
   "outputs": [],
   "source": []
  },
  {
   "cell_type": "code",
   "execution_count": null,
   "metadata": {},
   "outputs": [],
   "source": []
  },
  {
   "cell_type": "code",
   "execution_count": null,
   "metadata": {},
   "outputs": [],
   "source": []
  },
  {
   "cell_type": "code",
   "execution_count": null,
   "metadata": {},
   "outputs": [],
   "source": []
  },
  {
   "cell_type": "code",
   "execution_count": null,
   "metadata": {},
   "outputs": [],
   "source": []
  },
  {
   "cell_type": "code",
   "execution_count": null,
   "metadata": {},
   "outputs": [],
   "source": []
  },
  {
   "cell_type": "code",
   "execution_count": null,
   "metadata": {},
   "outputs": [],
   "source": []
  },
  {
   "cell_type": "code",
   "execution_count": null,
   "metadata": {},
   "outputs": [],
   "source": []
  },
  {
   "cell_type": "code",
   "execution_count": null,
   "metadata": {},
   "outputs": [],
   "source": []
  },
  {
   "cell_type": "code",
   "execution_count": null,
   "metadata": {},
   "outputs": [],
   "source": []
  },
  {
   "cell_type": "code",
   "execution_count": null,
   "metadata": {},
   "outputs": [],
   "source": []
  },
  {
   "cell_type": "code",
   "execution_count": null,
   "metadata": {},
   "outputs": [],
   "source": []
  }
 ],
 "metadata": {
  "kernelspec": {
   "display_name": "Python 3",
   "language": "python",
   "name": "python3"
  },
  "language_info": {
   "codemirror_mode": {
    "name": "ipython",
    "version": 3
   },
   "file_extension": ".py",
   "mimetype": "text/x-python",
   "name": "python",
   "nbconvert_exporter": "python",
   "pygments_lexer": "ipython3",
   "version": "3.8.3"
  }
 },
 "nbformat": 4,
 "nbformat_minor": 4
}

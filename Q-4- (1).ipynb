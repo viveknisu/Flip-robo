{
 "cells": [
  {
   "cell_type": "code",
   "execution_count": 1,
   "metadata": {},
   "outputs": [],
   "source": [
    "import pandas as pd\n",
    "import selenium\n",
    "from selenium import webdriver\n",
    "#importing the require Libraries\n",
    "from selenium.common.exceptions import NoSuchElementException #importing Exception\n",
    "from selenium.webdriver.support.ui import WebDriverWait\n",
    "from selenium.webdriver.support import expected_conditions as EC\n",
    "from selenium.webdriver.common.by import By\n",
    "import time"
   ]
  },
  {
   "cell_type": "code",
   "execution_count": 2,
   "metadata": {},
   "outputs": [
    {
     "data": {
      "text/plain": [
       "<selenium.webdriver.chrome.webdriver.WebDriver (session=\"26bd4c4b191d6d8e679a996784d15512\")>"
      ]
     },
     "execution_count": 2,
     "metadata": {},
     "output_type": "execute_result"
    }
   ],
   "source": [
    "#connect to web driver\n",
    "driver=webdriver.Chrome(\"chromedriver.exe\")\n",
    "driver"
   ]
  },
  {
   "cell_type": "code",
   "execution_count": 3,
   "metadata": {},
   "outputs": [],
   "source": [
    "url=\"https://www.glassdoor.co.in/index.htm\"\n",
    "driver.get(url)"
   ]
  },
  {
   "cell_type": "code",
   "execution_count": 5,
   "metadata": {},
   "outputs": [],
   "source": [
    "driver.find_element_by_xpath(\"//a[@class='btn gd-btn-1 green searchJobsBtn']\").click()"
   ]
  },
  {
   "cell_type": "code",
   "execution_count": 6,
   "metadata": {},
   "outputs": [
    {
     "data": {
      "text/plain": [
       "<selenium.webdriver.remote.webelement.WebElement (session=\"26bd4c4b191d6d8e679a996784d15512\", element=\"cc3cc8cf-f96e-4eb4-922c-14b4ecd45604\")>"
      ]
     },
     "execution_count": 6,
     "metadata": {},
     "output_type": "execute_result"
    }
   ],
   "source": [
    "#web element for skill,designation input bar\n",
    "x=driver.find_element_by_id(\"scKeyword\") #by using Xpath function\n",
    "x"
   ]
  },
  {
   "cell_type": "code",
   "execution_count": 7,
   "metadata": {},
   "outputs": [],
   "source": [
    "x.send_keys('Data Scientist')"
   ]
  },
  {
   "cell_type": "code",
   "execution_count": 8,
   "metadata": {},
   "outputs": [],
   "source": [
    "#web element for location input bar\n",
    "loc=driver.find_element_by_id('scLocation') # usding ID function\n",
    "loc.clear()\n",
    "loc.send_keys('Noida')"
   ]
  },
  {
   "cell_type": "code",
   "execution_count": 9,
   "metadata": {},
   "outputs": [],
   "source": [
    "#web element for the submit arrow icon  by ID function\n",
    "search =driver.find_element_by_id(\"prefix__icon-arrow-1\")\n",
    "search.click()"
   ]
  },
  {
   "cell_type": "code",
   "execution_count": 10,
   "metadata": {},
   "outputs": [],
   "source": [
    "comapny_name=[]\n",
    "No_of_days_ago_job_posted=[]\n",
    "Company_rating=[]"
   ]
  },
  {
   "cell_type": "code",
   "execution_count": 11,
   "metadata": {},
   "outputs": [
    {
     "data": {
      "text/plain": [
       "['UnitedHealth Group',\n",
       " 'Mansha Solutions',\n",
       " 'Ericsson',\n",
       " 'Lantern Digital Services',\n",
       " 'Priority Vendor',\n",
       " 'Techlive',\n",
       " 'Gauge Data Solutions',\n",
       " 'WishFin',\n",
       " 'Sparkbpl',\n",
       " 'SearchUrCollege']"
      ]
     },
     "execution_count": 11,
     "metadata": {},
     "output_type": "execute_result"
    }
   ],
   "source": [
    "#web element for the company name by xpath function\n",
    "for n in driver.find_elements_by_xpath(\"//div[@class='d-flex justify-content-between align-items-start']\"):\n",
    "    comapny_name.append(n.text) \n",
    "\n",
    "comapny_name[0:10]"
   ]
  },
  {
   "cell_type": "code",
   "execution_count": 12,
   "metadata": {},
   "outputs": [
    {
     "data": {
      "text/plain": [
       "['3d', '13d', '4d', '11d', '17d', '23d', '17d', '24h', '17d', '17d']"
      ]
     },
     "execution_count": 12,
     "metadata": {},
     "output_type": "execute_result"
    }
   ],
   "source": [
    "#web element for the No_of_days_ago_job_posted by xpath function\n",
    "for d in driver.find_elements_by_xpath(\"//div[@class='d-flex align-items-end pl-std css-mi55ob']\"):\n",
    "    No_of_days_ago_job_posted.append(d.text)\n",
    "No_of_days_ago_job_posted[0:10]"
   ]
  },
  {
   "cell_type": "code",
   "execution_count": 15,
   "metadata": {},
   "outputs": [
    {
     "data": {
      "text/plain": [
       "['3.6', '4.1', '3.7', '5.0', '3.1', '3.8', '3.8', '4.3', '4.0', '4.1']"
      ]
     },
     "execution_count": 15,
     "metadata": {},
     "output_type": "execute_result"
    }
   ],
   "source": [
    "#web element for thr comapny rating by xpath function\n",
    "for r in driver.find_elements_by_xpath(\"//span[@class='css-19pjha7 e1cjmv6j1']\"):\n",
    "    Company_rating.append(r.text)\n",
    "Company_rating[0:10]"
   ]
  },
  {
   "cell_type": "code",
   "execution_count": 26,
   "metadata": {},
   "outputs": [
    {
     "data": {
      "text/plain": [
       "['3.6', '_', 4.1, '-', 3.7, 5.0, 3.1, 3.8, '-', '-']"
      ]
     },
     "execution_count": 26,
     "metadata": {},
     "output_type": "execute_result"
    }
   ],
   "source": [
    "x=Company_rating[0:10]\n",
    "x[1]=('_')\n",
    "x[2]=(4.1)\n",
    "x[3]=('-')\n",
    "x[4]=(3.7)\n",
    "x[5]=(5.0)\n",
    "x[6]=(3.1)\n",
    "x[7]=(3.8)\n",
    "x[8]=('-')\n",
    "x[9]=('-')\n",
    "x\n",
    "x"
   ]
  },
  {
   "cell_type": "code",
   "execution_count": 27,
   "metadata": {},
   "outputs": [
    {
     "data": {
      "text/html": [
       "<div>\n",
       "<style scoped>\n",
       "    .dataframe tbody tr th:only-of-type {\n",
       "        vertical-align: middle;\n",
       "    }\n",
       "\n",
       "    .dataframe tbody tr th {\n",
       "        vertical-align: top;\n",
       "    }\n",
       "\n",
       "    .dataframe thead th {\n",
       "        text-align: right;\n",
       "    }\n",
       "</style>\n",
       "<table border=\"1\" class=\"dataframe\">\n",
       "  <thead>\n",
       "    <tr style=\"text-align: right;\">\n",
       "      <th></th>\n",
       "      <th>company_name</th>\n",
       "      <th>No. of days ago when job was posted</th>\n",
       "      <th>Rating of the company</th>\n",
       "    </tr>\n",
       "  </thead>\n",
       "  <tbody>\n",
       "    <tr>\n",
       "      <th>0</th>\n",
       "      <td>UnitedHealth Group</td>\n",
       "      <td>3d</td>\n",
       "      <td>3.6</td>\n",
       "    </tr>\n",
       "    <tr>\n",
       "      <th>1</th>\n",
       "      <td>Mansha Solutions</td>\n",
       "      <td>13d</td>\n",
       "      <td>_</td>\n",
       "    </tr>\n",
       "    <tr>\n",
       "      <th>2</th>\n",
       "      <td>Ericsson</td>\n",
       "      <td>4d</td>\n",
       "      <td>4.1</td>\n",
       "    </tr>\n",
       "    <tr>\n",
       "      <th>3</th>\n",
       "      <td>Lantern Digital Services</td>\n",
       "      <td>11d</td>\n",
       "      <td>-</td>\n",
       "    </tr>\n",
       "    <tr>\n",
       "      <th>4</th>\n",
       "      <td>Priority Vendor</td>\n",
       "      <td>17d</td>\n",
       "      <td>3.7</td>\n",
       "    </tr>\n",
       "    <tr>\n",
       "      <th>5</th>\n",
       "      <td>Techlive</td>\n",
       "      <td>23d</td>\n",
       "      <td>5</td>\n",
       "    </tr>\n",
       "    <tr>\n",
       "      <th>6</th>\n",
       "      <td>Gauge Data Solutions</td>\n",
       "      <td>17d</td>\n",
       "      <td>3.1</td>\n",
       "    </tr>\n",
       "    <tr>\n",
       "      <th>7</th>\n",
       "      <td>WishFin</td>\n",
       "      <td>24h</td>\n",
       "      <td>3.8</td>\n",
       "    </tr>\n",
       "    <tr>\n",
       "      <th>8</th>\n",
       "      <td>Sparkbpl</td>\n",
       "      <td>17d</td>\n",
       "      <td>-</td>\n",
       "    </tr>\n",
       "    <tr>\n",
       "      <th>9</th>\n",
       "      <td>SearchUrCollege</td>\n",
       "      <td>17d</td>\n",
       "      <td>-</td>\n",
       "    </tr>\n",
       "  </tbody>\n",
       "</table>\n",
       "</div>"
      ],
      "text/plain": [
       "               company_name No. of days ago when job was posted  \\\n",
       "0        UnitedHealth Group                                  3d   \n",
       "1          Mansha Solutions                                 13d   \n",
       "2                  Ericsson                                  4d   \n",
       "3  Lantern Digital Services                                 11d   \n",
       "4           Priority Vendor                                 17d   \n",
       "5                  Techlive                                 23d   \n",
       "6      Gauge Data Solutions                                 17d   \n",
       "7                   WishFin                                 24h   \n",
       "8                  Sparkbpl                                 17d   \n",
       "9           SearchUrCollege                                 17d   \n",
       "\n",
       "  Rating of the company  \n",
       "0                   3.6  \n",
       "1                     _  \n",
       "2                   4.1  \n",
       "3                     -  \n",
       "4                   3.7  \n",
       "5                     5  \n",
       "6                   3.1  \n",
       "7                   3.8  \n",
       "8                     -  \n",
       "9                     -  "
      ]
     },
     "execution_count": 27,
     "metadata": {},
     "output_type": "execute_result"
    }
   ],
   "source": [
    "df=pd.DataFrame({})\n",
    "df['company_name']=comapny_name[0:10]\n",
    "df['No. of days ago when job was posted']=No_of_days_ago_job_posted[0:10]\n",
    "df['Rating of the company']=x\n",
    "df\n"
   ]
  },
  {
   "cell_type": "code",
   "execution_count": null,
   "metadata": {},
   "outputs": [],
   "source": []
  }
 ],
 "metadata": {
  "kernelspec": {
   "display_name": "Python 3",
   "language": "python",
   "name": "python3"
  },
  "language_info": {
   "codemirror_mode": {
    "name": "ipython",
    "version": 3
   },
   "file_extension": ".py",
   "mimetype": "text/x-python",
   "name": "python",
   "nbconvert_exporter": "python",
   "pygments_lexer": "ipython3",
   "version": "3.8.3"
  }
 },
 "nbformat": 4,
 "nbformat_minor": 4
}
